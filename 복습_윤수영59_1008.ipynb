{
 "cells": [
  {
   "cell_type": "markdown",
   "id": "bd0d2897",
   "metadata": {},
   "source": [
    "# Outlier\n",
    "\n",
    "- 이상치 : 극단적인 값, 전체 데이터 범위를 넘는 값\n",
    "- 이상치를 제거하는 것이 문제가 될 수 있음\n",
    "\n",
    "- if 이상치가 데이터 분석 기준에 대한 이상치라면 -> 실제 군집일 수도\n",
    "- ex) 백화점 고객데이터 -> 일반 고객 vs vip\n",
    "\n",
    "- 이상치에 대한 군집이 형성된다면 -> 두 개의 군집으로 나눠서 분석할 수도 있음\n",
    "\n",
    "---\n",
    "\n",
    "- 정답이 있는 부분이 아니기 때문에 단순하게 수치적으로 접근해서 이상치를 제거, 성능 개선, 일반화할 수 있는 것이 아님 -> 목적에 맞게 이상치 제거에 대한 방법을 생각해야 됨"
   ]
  },
  {
   "cell_type": "code",
   "execution_count": 53,
   "id": "26dd9c64",
   "metadata": {},
   "outputs": [],
   "source": [
    "import pandas as pd\n",
    "import numpy as np\n",
    "import matplotlib.pyplot as plt\n",
    "import seaborn as sns\n",
    "\n",
    "import statsmodels.api as sm\n",
    "import matplotlib.pyplot as plt\n",
    "from sklearn.model_selection import train_test_split\n",
    "from sklearn.metrics import mean_squared_error"
   ]
  },
  {
   "cell_type": "markdown",
   "id": "4623fadd",
   "metadata": {},
   "source": [
    "## 예시 데이터를 통해 Outlier 확인"
   ]
  },
  {
   "cell_type": "code",
   "execution_count": 29,
   "id": "9bda2680",
   "metadata": {},
   "outputs": [
    {
     "data": {
      "text/html": [
       "<div>\n",
       "<style scoped>\n",
       "    .dataframe tbody tr th:only-of-type {\n",
       "        vertical-align: middle;\n",
       "    }\n",
       "\n",
       "    .dataframe tbody tr th {\n",
       "        vertical-align: top;\n",
       "    }\n",
       "\n",
       "    .dataframe thead th {\n",
       "        text-align: right;\n",
       "    }\n",
       "</style>\n",
       "<table border=\"1\" class=\"dataframe\">\n",
       "  <thead>\n",
       "    <tr style=\"text-align: right;\">\n",
       "      <th></th>\n",
       "      <th>MedInc</th>\n",
       "      <th>HouseAge</th>\n",
       "      <th>AveRooms</th>\n",
       "      <th>AveBedrms</th>\n",
       "      <th>Population</th>\n",
       "      <th>AveOccup</th>\n",
       "      <th>Latitude</th>\n",
       "      <th>Longitude</th>\n",
       "      <th>target</th>\n",
       "    </tr>\n",
       "  </thead>\n",
       "  <tbody>\n",
       "    <tr>\n",
       "      <th>0</th>\n",
       "      <td>8.3252</td>\n",
       "      <td>41.0</td>\n",
       "      <td>6.984127</td>\n",
       "      <td>1.023810</td>\n",
       "      <td>322.0</td>\n",
       "      <td>2.555556</td>\n",
       "      <td>37.88</td>\n",
       "      <td>-122.23</td>\n",
       "      <td>4.526</td>\n",
       "    </tr>\n",
       "    <tr>\n",
       "      <th>1</th>\n",
       "      <td>8.3014</td>\n",
       "      <td>21.0</td>\n",
       "      <td>6.238137</td>\n",
       "      <td>0.971880</td>\n",
       "      <td>2401.0</td>\n",
       "      <td>2.109842</td>\n",
       "      <td>37.86</td>\n",
       "      <td>-122.22</td>\n",
       "      <td>3.585</td>\n",
       "    </tr>\n",
       "    <tr>\n",
       "      <th>2</th>\n",
       "      <td>7.2574</td>\n",
       "      <td>52.0</td>\n",
       "      <td>8.288136</td>\n",
       "      <td>1.073446</td>\n",
       "      <td>496.0</td>\n",
       "      <td>2.802260</td>\n",
       "      <td>37.85</td>\n",
       "      <td>-122.24</td>\n",
       "      <td>3.521</td>\n",
       "    </tr>\n",
       "    <tr>\n",
       "      <th>3</th>\n",
       "      <td>5.6431</td>\n",
       "      <td>52.0</td>\n",
       "      <td>5.817352</td>\n",
       "      <td>1.073059</td>\n",
       "      <td>558.0</td>\n",
       "      <td>2.547945</td>\n",
       "      <td>37.85</td>\n",
       "      <td>-122.25</td>\n",
       "      <td>3.413</td>\n",
       "    </tr>\n",
       "    <tr>\n",
       "      <th>4</th>\n",
       "      <td>3.8462</td>\n",
       "      <td>52.0</td>\n",
       "      <td>6.281853</td>\n",
       "      <td>1.081081</td>\n",
       "      <td>565.0</td>\n",
       "      <td>2.181467</td>\n",
       "      <td>37.85</td>\n",
       "      <td>-122.25</td>\n",
       "      <td>3.422</td>\n",
       "    </tr>\n",
       "  </tbody>\n",
       "</table>\n",
       "</div>"
      ],
      "text/plain": [
       "   MedInc  HouseAge  AveRooms  AveBedrms  Population  AveOccup  Latitude  \\\n",
       "0  8.3252      41.0  6.984127   1.023810       322.0  2.555556     37.88   \n",
       "1  8.3014      21.0  6.238137   0.971880      2401.0  2.109842     37.86   \n",
       "2  7.2574      52.0  8.288136   1.073446       496.0  2.802260     37.85   \n",
       "3  5.6431      52.0  5.817352   1.073059       558.0  2.547945     37.85   \n",
       "4  3.8462      52.0  6.281853   1.081081       565.0  2.181467     37.85   \n",
       "\n",
       "   Longitude  target  \n",
       "0    -122.23   4.526  \n",
       "1    -122.22   3.585  \n",
       "2    -122.24   3.521  \n",
       "3    -122.25   3.413  \n",
       "4    -122.25   3.422  "
      ]
     },
     "execution_count": 29,
     "metadata": {},
     "output_type": "execute_result"
    }
   ],
   "source": [
    "from sklearn import datasets\n",
    "\n",
    "dataset = datasets.fetch_california_housing()\n",
    "df = pd.DataFrame(dataset.data, columns = dataset.feature_names)\n",
    "df['target'] = dataset.target\n",
    "df.head()"
   ]
  },
  {
   "cell_type": "code",
   "execution_count": 4,
   "id": "f9ccea60",
   "metadata": {},
   "outputs": [
    {
     "name": "stdout",
     "output_type": "stream",
     "text": [
      "<class 'pandas.core.frame.DataFrame'>\n",
      "RangeIndex: 20640 entries, 0 to 20639\n",
      "Data columns (total 9 columns):\n",
      " #   Column      Non-Null Count  Dtype  \n",
      "---  ------      --------------  -----  \n",
      " 0   MedInc      20640 non-null  float64\n",
      " 1   HouseAge    20640 non-null  float64\n",
      " 2   AveRooms    20640 non-null  float64\n",
      " 3   AveBedrms   20640 non-null  float64\n",
      " 4   Population  20640 non-null  float64\n",
      " 5   AveOccup    20640 non-null  float64\n",
      " 6   Latitude    20640 non-null  float64\n",
      " 7   Longitude   20640 non-null  float64\n",
      " 8   target      20640 non-null  float64\n",
      "dtypes: float64(9)\n",
      "memory usage: 1.4 MB\n"
     ]
    }
   ],
   "source": [
    "df.info()"
   ]
  },
  {
   "cell_type": "code",
   "execution_count": 5,
   "id": "33b15fc2",
   "metadata": {},
   "outputs": [
    {
     "data": {
      "text/plain": [
       "<Axes: >"
      ]
     },
     "execution_count": 5,
     "metadata": {},
     "output_type": "execute_result"
    },
    {
     "data": {
      "image/png": "[encoded data removed]",
      "text/plain": [
       "<Figure size 640x480 with 1 Axes>"
      ]
     },
     "metadata": {},
     "output_type": "display_data"
    }
   ],
   "source": [
    "sns.boxplot(df.target)"
   ]
  },
  {
   "cell_type": "code",
   "execution_count": 6,
   "id": "8627140c",
   "metadata": {},
   "outputs": [
    {
     "data": {
      "text/plain": [
       "<Axes: >"
      ]
     },
     "execution_count": 6,
     "metadata": {},
     "output_type": "execute_result"
    },
    {
     "data": {
      "image/png": "[encoded data removed]",
      "text/plain": [
       "<Figure size 640x480 with 1 Axes>"
      ]
     },
     "metadata": {},
     "output_type": "display_data"
    }
   ],
   "source": [
    "sns.boxplot(df.AveRooms)"
   ]
  },
  {
   "cell_type": "code",
   "execution_count": 7,
   "id": "9b7bf354",
   "metadata": {},
   "outputs": [
    {
     "data": {
      "text/plain": [
       "count    20640.000000\n",
       "mean         5.429000\n",
       "std          2.474173\n",
       "min          0.846154\n",
       "25%          4.440716\n",
       "50%          5.229129\n",
       "75%          6.052381\n",
       "max        141.909091\n",
       "Name: AveRooms, dtype: float64"
      ]
     },
     "execution_count": 7,
     "metadata": {},
     "output_type": "execute_result"
    }
   ],
   "source": [
    "df.AveRooms.describe()"
   ]
  },
  {
   "cell_type": "code",
   "execution_count": 8,
   "id": "a3c4c885",
   "metadata": {},
   "outputs": [
    {
     "data": {
      "text/plain": [
       "count    20640.000000\n",
       "mean         2.068558\n",
       "std          1.153956\n",
       "min          0.149990\n",
       "25%          1.196000\n",
       "50%          1.797000\n",
       "75%          2.647250\n",
       "max          5.000010\n",
       "Name: target, dtype: float64"
      ]
     },
     "execution_count": 8,
     "metadata": {},
     "output_type": "execute_result"
    }
   ],
   "source": [
    "df.target.describe()"
   ]
  },
  {
   "cell_type": "code",
   "execution_count": 9,
   "id": "00e51e1c",
   "metadata": {},
   "outputs": [
    {
     "data": {
      "text/plain": [
       "1914"
      ]
     },
     "execution_count": 9,
     "metadata": {},
     "output_type": "execute_result"
    }
   ],
   "source": [
    "# 최대값의 인덱스 추출\n",
    "np.argmax(df.AveRooms)"
   ]
  },
  {
   "cell_type": "code",
   "execution_count": 10,
   "id": "98413809",
   "metadata": {},
   "outputs": [
    {
     "data": {
      "text/plain": [
       "MedInc          1.875000\n",
       "HouseAge       33.000000\n",
       "AveRooms      141.909091\n",
       "AveBedrms      25.636364\n",
       "Population     30.000000\n",
       "AveOccup        2.727273\n",
       "Latitude       38.910000\n",
       "Longitude    -120.100000\n",
       "target          5.000010\n",
       "Name: 1914, dtype: float64"
      ]
     },
     "execution_count": 10,
     "metadata": {},
     "output_type": "execute_result"
    }
   ],
   "source": [
    "df.iloc[1914]"
   ]
  },
  {
   "cell_type": "markdown",
   "id": "81e2d252",
   "metadata": {},
   "source": [
    "### 이상치를 제거하지 않고 회귀분석의 RMSE 정도를 낮출 순 없을까?\n",
    "\n",
    "### 가중치나 새로운 변수를 만들면 성능이 좋아질까?"
   ]
  },
  {
   "cell_type": "code",
   "execution_count": 40,
   "id": "6543b3bb",
   "metadata": {},
   "outputs": [],
   "source": [
    "df_sp = df[['AveRooms', 'HouseAge', 'Population', 'target']]"
   ]
  },
  {
   "cell_type": "code",
   "execution_count": 41,
   "id": "a790eee3",
   "metadata": {},
   "outputs": [],
   "source": [
    "df_sp1 = df_sp.copy()\n",
    "df_sp2 = df_sp.copy()\n",
    "df_sp3 = df_sp.copy()"
   ]
  },
  {
   "cell_type": "code",
   "execution_count": 60,
   "id": "f34e60d2",
   "metadata": {},
   "outputs": [],
   "source": [
    "x_train, x_test, y_train, y_test = train_test_split(df_sp.drop('target', axis = 1), df_sp['target'], \n",
    "                                                    test_size = 0.3, random_state = 111)"
   ]
  },
  {
   "cell_type": "markdown",
   "id": "97385ce4",
   "metadata": {},
   "source": [
    "### 베이스"
   ]
  },
  {
   "cell_type": "code",
   "execution_count": 61,
   "id": "2e25f7c4",
   "metadata": {},
   "outputs": [
    {
     "data": {
      "image/png": "[encoded data removed]",
      "text/plain": [
       "<Figure size 640x480 with 1 Axes>"
      ]
     },
     "metadata": {},
     "output_type": "display_data"
    }
   ],
   "source": [
    "fit_train1 = sm.OLS(y_train, x_train)\n",
    "fit_train1 = fit_train1.fit()\n",
    "\n",
    "plt.plot(np.array(fit_train1.predict(x_test)), label = 'pred')\n",
    "plt.plot(np.array(y_test), label = 'True')\n",
    "plt.legend()\n",
    "plt.show()"
   ]
  },
  {
   "cell_type": "code",
   "execution_count": 62,
   "id": "d4f865de",
   "metadata": {},
   "outputs": [
    {
     "name": "stdout",
     "output_type": "stream",
     "text": [
      "1.3737537935478012\n"
     ]
    }
   ],
   "source": [
    "from sklearn.metrics import mean_squared_error\n",
    "mse1 = mean_squared_error(y_true = y_test, y_pred = fit_train1.predict(x_test))\n",
    "print(mse1)"
   ]
  },
  {
   "cell_type": "markdown",
   "id": "660591cb",
   "metadata": {},
   "source": [
    "- 베이스라인 모델로 회귀분석 진행 시 1.3"
   ]
  },
  {
   "attachments": {
    "image.png": {
     "image/png": "[encoded data removed]"
    }
   },
   "cell_type": "markdown",
   "id": "39f91bca",
   "metadata": {},
   "source": [
    "## AveRooms 이상치 제거\n",
    "\n",
    "- IQR(사분범위) 방식\n",
    "- 통계치에 대한 개념으로 제거\n",
    "\n",
    "![image.png](attachment:image.png)"
   ]
  },
  {
   "cell_type": "code",
   "execution_count": 15,
   "id": "69a5f492",
   "metadata": {},
   "outputs": [],
   "source": [
    "# 이상치 추출\n",
    "\n",
    "Q1 = df_sp['AveRooms'].quantile(0.25)\n",
    "Q3 = df_sp['AveRooms'].quantile(0.75)\n",
    "IQR = Q3 - Q1\n",
    "rev_range = 3 # 이상치를 Q1 - 3*IQR 미만, Q3 + 3*IQR 초과로 판단\n",
    "filter1 = (df_sp['AveRooms'] >= (Q1 - rev_range * IQR)) & (df_sp['AveRooms'] <= (Q3 + rev_range * IQR))"
   ]
  },
  {
   "cell_type": "code",
   "execution_count": 16,
   "id": "4d52c907",
   "metadata": {},
   "outputs": [],
   "source": [
    "df_sp_rmv = df_sp.loc[filter1]"
   ]
  },
  {
   "cell_type": "code",
   "execution_count": 17,
   "id": "1a073b52",
   "metadata": {},
   "outputs": [
    {
     "data": {
      "text/html": [
       "<div>\n",
       "<style scoped>\n",
       "    .dataframe tbody tr th:only-of-type {\n",
       "        vertical-align: middle;\n",
       "    }\n",
       "\n",
       "    .dataframe tbody tr th {\n",
       "        vertical-align: top;\n",
       "    }\n",
       "\n",
       "    .dataframe thead th {\n",
       "        text-align: right;\n",
       "    }\n",
       "</style>\n",
       "<table border=\"1\" class=\"dataframe\">\n",
       "  <thead>\n",
       "    <tr style=\"text-align: right;\">\n",
       "      <th></th>\n",
       "      <th>AveRooms</th>\n",
       "      <th>HouseAge</th>\n",
       "      <th>Population</th>\n",
       "      <th>target</th>\n",
       "    </tr>\n",
       "  </thead>\n",
       "  <tbody>\n",
       "    <tr>\n",
       "      <th>0</th>\n",
       "      <td>6.984127</td>\n",
       "      <td>41.0</td>\n",
       "      <td>322.0</td>\n",
       "      <td>4.526</td>\n",
       "    </tr>\n",
       "    <tr>\n",
       "      <th>1</th>\n",
       "      <td>6.238137</td>\n",
       "      <td>21.0</td>\n",
       "      <td>2401.0</td>\n",
       "      <td>3.585</td>\n",
       "    </tr>\n",
       "    <tr>\n",
       "      <th>2</th>\n",
       "      <td>8.288136</td>\n",
       "      <td>52.0</td>\n",
       "      <td>496.0</td>\n",
       "      <td>3.521</td>\n",
       "    </tr>\n",
       "    <tr>\n",
       "      <th>3</th>\n",
       "      <td>5.817352</td>\n",
       "      <td>52.0</td>\n",
       "      <td>558.0</td>\n",
       "      <td>3.413</td>\n",
       "    </tr>\n",
       "    <tr>\n",
       "      <th>4</th>\n",
       "      <td>6.281853</td>\n",
       "      <td>52.0</td>\n",
       "      <td>565.0</td>\n",
       "      <td>3.422</td>\n",
       "    </tr>\n",
       "    <tr>\n",
       "      <th>...</th>\n",
       "      <td>...</td>\n",
       "      <td>...</td>\n",
       "      <td>...</td>\n",
       "      <td>...</td>\n",
       "    </tr>\n",
       "    <tr>\n",
       "      <th>20635</th>\n",
       "      <td>5.045455</td>\n",
       "      <td>25.0</td>\n",
       "      <td>845.0</td>\n",
       "      <td>0.781</td>\n",
       "    </tr>\n",
       "    <tr>\n",
       "      <th>20636</th>\n",
       "      <td>6.114035</td>\n",
       "      <td>18.0</td>\n",
       "      <td>356.0</td>\n",
       "      <td>0.771</td>\n",
       "    </tr>\n",
       "    <tr>\n",
       "      <th>20637</th>\n",
       "      <td>5.205543</td>\n",
       "      <td>17.0</td>\n",
       "      <td>1007.0</td>\n",
       "      <td>0.923</td>\n",
       "    </tr>\n",
       "    <tr>\n",
       "      <th>20638</th>\n",
       "      <td>5.329513</td>\n",
       "      <td>18.0</td>\n",
       "      <td>741.0</td>\n",
       "      <td>0.847</td>\n",
       "    </tr>\n",
       "    <tr>\n",
       "      <th>20639</th>\n",
       "      <td>5.254717</td>\n",
       "      <td>16.0</td>\n",
       "      <td>1387.0</td>\n",
       "      <td>0.894</td>\n",
       "    </tr>\n",
       "  </tbody>\n",
       "</table>\n",
       "<p>20460 rows × 4 columns</p>\n",
       "</div>"
      ],
      "text/plain": [
       "       AveRooms  HouseAge  Population  target\n",
       "0      6.984127      41.0       322.0   4.526\n",
       "1      6.238137      21.0      2401.0   3.585\n",
       "2      8.288136      52.0       496.0   3.521\n",
       "3      5.817352      52.0       558.0   3.413\n",
       "4      6.281853      52.0       565.0   3.422\n",
       "...         ...       ...         ...     ...\n",
       "20635  5.045455      25.0       845.0   0.781\n",
       "20636  6.114035      18.0       356.0   0.771\n",
       "20637  5.205543      17.0      1007.0   0.923\n",
       "20638  5.329513      18.0       741.0   0.847\n",
       "20639  5.254717      16.0      1387.0   0.894\n",
       "\n",
       "[20460 rows x 4 columns]"
      ]
     },
     "execution_count": 17,
     "metadata": {},
     "output_type": "execute_result"
    }
   ],
   "source": [
    "df_sp_rmv\n",
    "# 이상치 제외한 Dataframe"
   ]
  },
  {
   "cell_type": "markdown",
   "id": "503420b8",
   "metadata": {},
   "source": [
    "이상치 제거하기"
   ]
  },
  {
   "cell_type": "code",
   "execution_count": 42,
   "id": "c296e279",
   "metadata": {},
   "outputs": [],
   "source": [
    "def replace_outlier(value):\n",
    "    Q1 = df_sp['AveRooms'].quantile(0.25)\n",
    "    Q3 = df_sp['AveRooms'].quantile(0.75)\n",
    "    IQR = Q3 - Q1\n",
    "    rev_range = 3\n",
    "    \n",
    "    if value < (Q1 - rev_range * IQR):\n",
    "        value = np.nan\n",
    "    if value > (Q3 + rev_range * IQR):\n",
    "        value = np.nan\n",
    "    return value\n",
    "\n",
    "df_sp1.AveRooms = df_sp1.AveRooms.apply(replace_outlier)"
   ]
  },
  {
   "cell_type": "code",
   "execution_count": 43,
   "id": "6b6d8d63",
   "metadata": {},
   "outputs": [
    {
     "data": {
      "text/plain": [
       "AveRooms      180\n",
       "HouseAge        0\n",
       "Population      0\n",
       "target          0\n",
       "dtype: int64"
      ]
     },
     "execution_count": 43,
     "metadata": {},
     "output_type": "execute_result"
    }
   ],
   "source": [
    "df_sp1.isna().sum()"
   ]
  },
  {
   "cell_type": "code",
   "execution_count": 44,
   "id": "ceb1596d",
   "metadata": {},
   "outputs": [],
   "source": [
    "df_sp1= df_sp1.dropna()"
   ]
  },
  {
   "cell_type": "code",
   "execution_count": 55,
   "id": "7d823977",
   "metadata": {},
   "outputs": [
    {
     "data": {
      "text/html": [
       "<div>\n",
       "<style scoped>\n",
       "    .dataframe tbody tr th:only-of-type {\n",
       "        vertical-align: middle;\n",
       "    }\n",
       "\n",
       "    .dataframe tbody tr th {\n",
       "        vertical-align: top;\n",
       "    }\n",
       "\n",
       "    .dataframe thead th {\n",
       "        text-align: right;\n",
       "    }\n",
       "</style>\n",
       "<table border=\"1\" class=\"dataframe\">\n",
       "  <thead>\n",
       "    <tr style=\"text-align: right;\">\n",
       "      <th></th>\n",
       "      <th>AveRooms</th>\n",
       "      <th>HouseAge</th>\n",
       "      <th>Population</th>\n",
       "      <th>target</th>\n",
       "    </tr>\n",
       "  </thead>\n",
       "  <tbody>\n",
       "    <tr>\n",
       "      <th>0</th>\n",
       "      <td>6.984127</td>\n",
       "      <td>41.0</td>\n",
       "      <td>322.0</td>\n",
       "      <td>4.526</td>\n",
       "    </tr>\n",
       "    <tr>\n",
       "      <th>1</th>\n",
       "      <td>6.238137</td>\n",
       "      <td>21.0</td>\n",
       "      <td>2401.0</td>\n",
       "      <td>3.585</td>\n",
       "    </tr>\n",
       "    <tr>\n",
       "      <th>2</th>\n",
       "      <td>8.288136</td>\n",
       "      <td>52.0</td>\n",
       "      <td>496.0</td>\n",
       "      <td>3.521</td>\n",
       "    </tr>\n",
       "    <tr>\n",
       "      <th>3</th>\n",
       "      <td>5.817352</td>\n",
       "      <td>52.0</td>\n",
       "      <td>558.0</td>\n",
       "      <td>3.413</td>\n",
       "    </tr>\n",
       "    <tr>\n",
       "      <th>4</th>\n",
       "      <td>6.281853</td>\n",
       "      <td>52.0</td>\n",
       "      <td>565.0</td>\n",
       "      <td>3.422</td>\n",
       "    </tr>\n",
       "    <tr>\n",
       "      <th>...</th>\n",
       "      <td>...</td>\n",
       "      <td>...</td>\n",
       "      <td>...</td>\n",
       "      <td>...</td>\n",
       "    </tr>\n",
       "    <tr>\n",
       "      <th>20635</th>\n",
       "      <td>5.045455</td>\n",
       "      <td>25.0</td>\n",
       "      <td>845.0</td>\n",
       "      <td>0.781</td>\n",
       "    </tr>\n",
       "    <tr>\n",
       "      <th>20636</th>\n",
       "      <td>6.114035</td>\n",
       "      <td>18.0</td>\n",
       "      <td>356.0</td>\n",
       "      <td>0.771</td>\n",
       "    </tr>\n",
       "    <tr>\n",
       "      <th>20637</th>\n",
       "      <td>5.205543</td>\n",
       "      <td>17.0</td>\n",
       "      <td>1007.0</td>\n",
       "      <td>0.923</td>\n",
       "    </tr>\n",
       "    <tr>\n",
       "      <th>20638</th>\n",
       "      <td>5.329513</td>\n",
       "      <td>18.0</td>\n",
       "      <td>741.0</td>\n",
       "      <td>0.847</td>\n",
       "    </tr>\n",
       "    <tr>\n",
       "      <th>20639</th>\n",
       "      <td>5.254717</td>\n",
       "      <td>16.0</td>\n",
       "      <td>1387.0</td>\n",
       "      <td>0.894</td>\n",
       "    </tr>\n",
       "  </tbody>\n",
       "</table>\n",
       "<p>20460 rows × 4 columns</p>\n",
       "</div>"
      ],
      "text/plain": [
       "       AveRooms  HouseAge  Population  target\n",
       "0      6.984127      41.0       322.0   4.526\n",
       "1      6.238137      21.0      2401.0   3.585\n",
       "2      8.288136      52.0       496.0   3.521\n",
       "3      5.817352      52.0       558.0   3.413\n",
       "4      6.281853      52.0       565.0   3.422\n",
       "...         ...       ...         ...     ...\n",
       "20635  5.045455      25.0       845.0   0.781\n",
       "20636  6.114035      18.0       356.0   0.771\n",
       "20637  5.205543      17.0      1007.0   0.923\n",
       "20638  5.329513      18.0       741.0   0.847\n",
       "20639  5.254717      16.0      1387.0   0.894\n",
       "\n",
       "[20460 rows x 4 columns]"
      ]
     },
     "execution_count": 55,
     "metadata": {},
     "output_type": "execute_result"
    }
   ],
   "source": [
    "df_sp1"
   ]
  },
  {
   "cell_type": "markdown",
   "id": "0addeb2e",
   "metadata": {},
   "source": [
    "이상치를 제거한 데이터 회귀분석 모델 돌리기"
   ]
  },
  {
   "cell_type": "code",
   "execution_count": 56,
   "id": "7dd09860",
   "metadata": {},
   "outputs": [],
   "source": [
    "# train, test 분리\n",
    "x_train, x_test, y_train, y_test = train_test_split(df_sp1.drop(['target'], axis = 1), df_sp1['target'],\n",
    "                                                    test_size = 0.3, random_state = 111)"
   ]
  },
  {
   "cell_type": "code",
   "execution_count": 57,
   "id": "e1c8d538",
   "metadata": {},
   "outputs": [],
   "source": [
    "fit_train2 = sm.OLS(y_train, x_train)\n",
    "fit_train2 = fit_train2.fit()\n",
    "y_pred = fit_train2.predict(x_test)"
   ]
  },
  {
   "cell_type": "code",
   "execution_count": 58,
   "id": "2db28ea6",
   "metadata": {},
   "outputs": [
    {
     "data": {
      "image/png": "[encoded data removed]",
      "text/plain": [
       "<Figure size 640x480 with 1 Axes>"
      ]
     },
     "metadata": {},
     "output_type": "display_data"
    }
   ],
   "source": [
    "plt.plot(np.array(y_pred), label = 'pred')\n",
    "plt.plot(np.array(y_test), label = 'true')\n",
    "plt.legend()\n",
    "plt.show()"
   ]
  },
  {
   "cell_type": "code",
   "execution_count": 59,
   "id": "7522dae0",
   "metadata": {},
   "outputs": [
    {
     "name": "stdout",
     "output_type": "stream",
     "text": [
      "1.1694755604062264\n"
     ]
    }
   ],
   "source": [
    "mse2 = mean_squared_error(y_true = y_test, y_pred = y_pred)\n",
    "print(mse2)"
   ]
  },
  {
   "cell_type": "markdown",
   "id": "7ce23536",
   "metadata": {},
   "source": [
    "## 이상치를 살려서 분석하는 경우\n",
    "\n",
    "- 이상치에 가중치를 둔다 : 0 (이상치가 아닌 경우) 1 (이상치인 경우)"
   ]
  },
  {
   "cell_type": "code",
   "execution_count": 46,
   "id": "02860aa6",
   "metadata": {},
   "outputs": [],
   "source": [
    "def saving_outlier(value):\n",
    "    Q1 = df_sp['AveRooms'].quantile(0.25)\n",
    "    Q3 = df_sp['AveRooms'].quantile(0.75)\n",
    "    IQR = Q3 - Q1\n",
    "    rev_range = 3\n",
    "    \n",
    "    if value < (Q1 - rev_range * IQR):\n",
    "        value = 1\n",
    "    elif value > (Q3 + rev_range * IQR):\n",
    "        value = 1\n",
    "    else:\n",
    "        value = 0\n",
    "    return value\n",
    "\n",
    "df_sp2['AveRooms_sv'] = df_sp2['AveRooms'].apply(saving_outlier)"
   ]
  },
  {
   "cell_type": "code",
   "execution_count": 47,
   "id": "062b1432",
   "metadata": {},
   "outputs": [
    {
     "data": {
      "text/plain": [
       "0    20460\n",
       "1      180\n",
       "Name: AveRooms_sv, dtype: int64"
      ]
     },
     "execution_count": 47,
     "metadata": {},
     "output_type": "execute_result"
    }
   ],
   "source": [
    "df_sp2.AveRooms_sv.value_counts()"
   ]
  },
  {
   "cell_type": "code",
   "execution_count": 48,
   "id": "f09c98d8",
   "metadata": {},
   "outputs": [
    {
     "data": {
      "text/plain": [
       "180"
      ]
     },
     "execution_count": 48,
     "metadata": {},
     "output_type": "execute_result"
    }
   ],
   "source": [
    "df_sp2.AveRooms_sv.sum()"
   ]
  },
  {
   "cell_type": "code",
   "execution_count": 49,
   "id": "b2762935",
   "metadata": {},
   "outputs": [],
   "source": [
    "# train, test 나누기\n",
    "x_train, x_test, y_train, y_test = train_test_split(df_sp2.drop('target', axis = 1), df_sp2['target'],\n",
    "                                                   test_size = 0.3, random_state = 111)"
   ]
  },
  {
   "cell_type": "code",
   "execution_count": 50,
   "id": "5eff7b12",
   "metadata": {},
   "outputs": [],
   "source": [
    "fit_train3 = sm.OLS(y_train, x_train)\n",
    "fit_train3 = fit_train3.fit()\n",
    "y_pred = fit_train3.predict(x_test)"
   ]
  },
  {
   "cell_type": "code",
   "execution_count": 52,
   "id": "e2cac6ea",
   "metadata": {},
   "outputs": [
    {
     "data": {
      "image/png": "[encoded data removed]",
      "text/plain": [
       "<Figure size 640x480 with 1 Axes>"
      ]
     },
     "metadata": {},
     "output_type": "display_data"
    }
   ],
   "source": [
    "plt.plot(np.array(y_pred), label = 'pred')\n",
    "plt.plot(np.array(y_test), label = 'true')\n",
    "plt.legend()\n",
    "plt.show()"
   ]
  },
  {
   "cell_type": "code",
   "execution_count": 54,
   "id": "15a80549",
   "metadata": {},
   "outputs": [
    {
     "name": "stdout",
     "output_type": "stream",
     "text": [
      "1.3195403300827175\n"
     ]
    }
   ],
   "source": [
    "mse3 = mean_squared_error(y_true = y_test, y_pred = y_pred)\n",
    "print(mse3)"
   ]
  },
  {
   "cell_type": "code",
   "execution_count": 63,
   "id": "5450a408",
   "metadata": {},
   "outputs": [
    {
     "name": "stdout",
     "output_type": "stream",
     "text": [
      "1.3737537935478012 : 기존 base\n",
      "1.1694755604062264 : outlier 제거\n",
      "1.3195403300827175 : outlier 보존\n"
     ]
    }
   ],
   "source": [
    "print(mse1, ': 기존 base')\n",
    "print(mse2, ': outlier 제거')\n",
    "print(mse3, ': outlier 보존')"
   ]
  },
  {
   "cell_type": "code",
   "execution_count": null,
   "id": "4659d45b",
   "metadata": {},
   "outputs": [],
   "source": []
  },
  {
   "cell_type": "code",
   "execution_count": null,
   "id": "e1f0dfac",
   "metadata": {},
   "outputs": [],
   "source": []
  },
  {
   "cell_type": "code",
   "execution_count": null,
   "id": "2dfbff26",
   "metadata": {},
   "outputs": [],
   "source": []
  }
 ],
 "metadata": {
  "kernelspec": {
   "display_name": "Python 3 (ipykernel)",
   "language": "python",
   "name": "python3"
  },
  "language_info": {
   "codemirror_mode": {
    "name": "ipython",
    "version": 3
   },
   "file_extension": ".py",
   "mimetype": "text/x-python",
   "name": "python",
   "nbconvert_exporter": "python",
   "pygments_lexer": "ipython3",
   "version": "3.10.9"
  }
 },
 "nbformat": 4,
 "nbformat_minor": 5
}
