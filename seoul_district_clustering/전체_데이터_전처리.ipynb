{
 "cells": [
  {
   "cell_type": "code",
   "execution_count": 1,
   "id": "b926dac6",
   "metadata": {},
   "outputs": [],
   "source": [
    "import pandas as pd"
   ]
  },
  {
   "cell_type": "code",
   "execution_count": 2,
   "id": "5e6bab76",
   "metadata": {},
   "outputs": [
    {
     "name": "stderr",
     "output_type": "stream",
     "text": [
      "C:\\Users\\user\\AppData\\Local\\Temp\\ipykernel_17116\\189606707.py:1: DtypeWarning: Columns (2,11,13,15,17,19,20,22,23,25,27,28,33) have mixed types. Specify dtype option on import or set low_memory=False.\n",
      "  df = pd.read_csv(\"소상공인시장진흥공단_상가(상권)정보_서울_202306.csv\")\n"
     ]
    }
   ],
   "source": [
    "df = pd.read_csv(\"소상공인시장진흥공단_상가(상권)정보_서울_202306.csv\")"
   ]
  },
  {
   "cell_type": "code",
   "execution_count": 3,
   "id": "967c3a78",
   "metadata": {},
   "outputs": [
    {
     "data": {
      "text/html": [
       "<div>\n",
       "<style scoped>\n",
       "    .dataframe tbody tr th:only-of-type {\n",
       "        vertical-align: middle;\n",
       "    }\n",
       "\n",
       "    .dataframe tbody tr th {\n",
       "        vertical-align: top;\n",
       "    }\n",
       "\n",
       "    .dataframe thead th {\n",
       "        text-align: right;\n",
       "    }\n",
       "</style>\n",
       "<table border=\"1\" class=\"dataframe\">\n",
       "  <thead>\n",
       "    <tr style=\"text-align: right;\">\n",
       "      <th></th>\n",
       "      <th>상가업소번호</th>\n",
       "      <th>상호명</th>\n",
       "      <th>지점명</th>\n",
       "      <th>상권업종대분류코드</th>\n",
       "      <th>상권업종대분류명</th>\n",
       "      <th>상권업종중분류코드</th>\n",
       "      <th>상권업종중분류명</th>\n",
       "      <th>상권업종소분류코드</th>\n",
       "      <th>상권업종소분류명</th>\n",
       "      <th>표준산업분류코드</th>\n",
       "      <th>...</th>\n",
       "      <th>건물관리번호</th>\n",
       "      <th>건물명</th>\n",
       "      <th>도로명주소</th>\n",
       "      <th>구우편번호</th>\n",
       "      <th>신우편번호</th>\n",
       "      <th>동정보</th>\n",
       "      <th>층정보</th>\n",
       "      <th>호정보</th>\n",
       "      <th>경도</th>\n",
       "      <th>위도</th>\n",
       "    </tr>\n",
       "  </thead>\n",
       "  <tbody>\n",
       "    <tr>\n",
       "      <th>0</th>\n",
       "      <td>MA0101202210A0037544</td>\n",
       "      <td>영자's곱창</td>\n",
       "      <td>NaN</td>\n",
       "      <td>I2</td>\n",
       "      <td>음식</td>\n",
       "      <td>I201</td>\n",
       "      <td>한식</td>\n",
       "      <td>I20109</td>\n",
       "      <td>곱창 전골/구이</td>\n",
       "      <td>I56111</td>\n",
       "      <td>...</td>\n",
       "      <td>1121510100101690021003140</td>\n",
       "      <td>NaN</td>\n",
       "      <td>서울특별시 광진구 면목로 172</td>\n",
       "      <td>143900.0</td>\n",
       "      <td>4904.0</td>\n",
       "      <td>NaN</td>\n",
       "      <td>1</td>\n",
       "      <td>NaN</td>\n",
       "      <td>127.082832</td>\n",
       "      <td>37.568503</td>\n",
       "    </tr>\n",
       "    <tr>\n",
       "      <th>1</th>\n",
       "      <td>MA0101202210A0097916</td>\n",
       "      <td>호텔클로이</td>\n",
       "      <td>NaN</td>\n",
       "      <td>I1</td>\n",
       "      <td>숙박</td>\n",
       "      <td>I101</td>\n",
       "      <td>일반 숙박</td>\n",
       "      <td>I10102</td>\n",
       "      <td>여관/모텔</td>\n",
       "      <td>I55102</td>\n",
       "      <td>...</td>\n",
       "      <td>1114014500101300000014092</td>\n",
       "      <td>유성장</td>\n",
       "      <td>서울특별시 중구 을지로42길 11</td>\n",
       "      <td>100411.0</td>\n",
       "      <td>4561.0</td>\n",
       "      <td>NaN</td>\n",
       "      <td>NaN</td>\n",
       "      <td>NaN</td>\n",
       "      <td>127.005849</td>\n",
       "      <td>37.565708</td>\n",
       "    </tr>\n",
       "    <tr>\n",
       "      <th>2</th>\n",
       "      <td>MA0101202210A0096343</td>\n",
       "      <td>나라차중계태권도장</td>\n",
       "      <td>NaN</td>\n",
       "      <td>P1</td>\n",
       "      <td>교육</td>\n",
       "      <td>P106</td>\n",
       "      <td>기타 교육</td>\n",
       "      <td>P10601</td>\n",
       "      <td>태권도/무술학원</td>\n",
       "      <td>P85611</td>\n",
       "      <td>...</td>\n",
       "      <td>1135010600103640019010971</td>\n",
       "      <td>삼부프라자</td>\n",
       "      <td>서울특별시 노원구 한글비석로 242</td>\n",
       "      <td>139861.0</td>\n",
       "      <td>1734.0</td>\n",
       "      <td>NaN</td>\n",
       "      <td>NaN</td>\n",
       "      <td>NaN</td>\n",
       "      <td>127.076956</td>\n",
       "      <td>37.649226</td>\n",
       "    </tr>\n",
       "    <tr>\n",
       "      <th>3</th>\n",
       "      <td>MA0101202210A0093845</td>\n",
       "      <td>이상한스냅</td>\n",
       "      <td>NaN</td>\n",
       "      <td>M1</td>\n",
       "      <td>과학·기술</td>\n",
       "      <td>M113</td>\n",
       "      <td>사진 촬영</td>\n",
       "      <td>M11301</td>\n",
       "      <td>사진촬영업</td>\n",
       "      <td>M73303</td>\n",
       "      <td>...</td>\n",
       "      <td>1147010300100090004000001</td>\n",
       "      <td>백송주택</td>\n",
       "      <td>서울특별시 양천구 월정로 283</td>\n",
       "      <td>158822.0</td>\n",
       "      <td>7902.0</td>\n",
       "      <td>NaN</td>\n",
       "      <td>NaN</td>\n",
       "      <td>NaN</td>\n",
       "      <td>126.828832</td>\n",
       "      <td>37.542117</td>\n",
       "    </tr>\n",
       "    <tr>\n",
       "      <th>4</th>\n",
       "      <td>MA010120220805430767</td>\n",
       "      <td>토끼정</td>\n",
       "      <td>NaN</td>\n",
       "      <td>I2</td>\n",
       "      <td>음식</td>\n",
       "      <td>I201</td>\n",
       "      <td>한식</td>\n",
       "      <td>I20101</td>\n",
       "      <td>백반/한정식</td>\n",
       "      <td>I56111</td>\n",
       "      <td>...</td>\n",
       "      <td>1150010500107740012000001</td>\n",
       "      <td>마커스빌딩</td>\n",
       "      <td>서울특별시 강서구 마곡동로 55</td>\n",
       "      <td>157805.0</td>\n",
       "      <td>7802.0</td>\n",
       "      <td>NaN</td>\n",
       "      <td>2</td>\n",
       "      <td>NaN</td>\n",
       "      <td>126.833022</td>\n",
       "      <td>37.560053</td>\n",
       "    </tr>\n",
       "  </tbody>\n",
       "</table>\n",
       "<p>5 rows × 39 columns</p>\n",
       "</div>"
      ],
      "text/plain": [
       "                 상가업소번호        상호명  지점명 상권업종대분류코드 상권업종대분류명 상권업종중분류코드 상권업종중분류명  \\\n",
       "0  MA0101202210A0037544     영자's곱창  NaN        I2       음식      I201       한식   \n",
       "1  MA0101202210A0097916      호텔클로이  NaN        I1       숙박      I101    일반 숙박   \n",
       "2  MA0101202210A0096343  나라차중계태권도장  NaN        P1       교육      P106    기타 교육   \n",
       "3  MA0101202210A0093845      이상한스냅  NaN        M1    과학·기술      M113    사진 촬영   \n",
       "4  MA010120220805430767        토끼정  NaN        I2       음식      I201       한식   \n",
       "\n",
       "  상권업종소분류코드  상권업종소분류명 표준산업분류코드  ...                     건물관리번호    건물명  \\\n",
       "0    I20109  곱창 전골/구이   I56111  ...  1121510100101690021003140    NaN   \n",
       "1    I10102     여관/모텔   I55102  ...  1114014500101300000014092    유성장   \n",
       "2    P10601  태권도/무술학원   P85611  ...  1135010600103640019010971  삼부프라자   \n",
       "3    M11301     사진촬영업   M73303  ...  1147010300100090004000001   백송주택   \n",
       "4    I20101    백반/한정식   I56111  ...  1150010500107740012000001  마커스빌딩   \n",
       "\n",
       "                 도로명주소     구우편번호   신우편번호 동정보  층정보 호정보          경도         위도  \n",
       "0    서울특별시 광진구 면목로 172  143900.0  4904.0 NaN    1 NaN  127.082832  37.568503  \n",
       "1   서울특별시 중구 을지로42길 11  100411.0  4561.0 NaN  NaN NaN  127.005849  37.565708  \n",
       "2  서울특별시 노원구 한글비석로 242  139861.0  1734.0 NaN  NaN NaN  127.076956  37.649226  \n",
       "3    서울특별시 양천구 월정로 283  158822.0  7902.0 NaN  NaN NaN  126.828832  37.542117  \n",
       "4    서울특별시 강서구 마곡동로 55  157805.0  7802.0 NaN    2 NaN  126.833022  37.560053  \n",
       "\n",
       "[5 rows x 39 columns]"
      ]
     },
     "execution_count": 3,
     "metadata": {},
     "output_type": "execute_result"
    }
   ],
   "source": [
    "df.head()"
   ]
  },
  {
   "cell_type": "markdown",
   "id": "e67b0950",
   "metadata": {},
   "source": [
    "# 4개의 행정구의 행정동 데이터 프레임 만들기"
   ]
  },
  {
   "cell_type": "code",
   "execution_count": 4,
   "id": "ffee37b7",
   "metadata": {},
   "outputs": [],
   "source": [
    "# 행정구의 행정동 리스트로 담기\n",
    "yang_dong_list = df.query(\"시군구명 == '양천구'\")[\"행정동명\"].unique().tolist()"
   ]
  },
  {
   "cell_type": "code",
   "execution_count": 5,
   "id": "8c63f97e",
   "metadata": {},
   "outputs": [
    {
     "data": {
      "text/plain": [
       "18"
      ]
     },
     "execution_count": 5,
     "metadata": {},
     "output_type": "execute_result"
    }
   ],
   "source": [
    "len(yang_dong_list)"
   ]
  },
  {
   "cell_type": "code",
   "execution_count": 6,
   "id": "7fec44c4",
   "metadata": {},
   "outputs": [],
   "source": [
    "# 첫번째 동에 대한 데이터프레임 만들기\n",
    "yang_df = pd.DataFrame(df[df['행정동명'] == '신월5동']['상권업종대분류명'].value_counts()).rename(columns={'상권업종대분류명': '신월5동'}).transpose()\n",
    "\n",
    "# 반복문으로 나머리 동의 데이터프레임 만들어서 합치기\n",
    "for dong_name in yang_dong_list:\n",
    "    dog = pd.DataFrame(df[df['행정동명'] == dong_name]['상권업종대분류명'].value_counts()).rename(columns={'상권업종대분류명': dong_name}).transpose()\n",
    "    yang_df = pd.concat([yang_df,dog], axis = 0)\n"
   ]
  },
  {
   "cell_type": "code",
   "execution_count": 7,
   "id": "0d6034f9",
   "metadata": {},
   "outputs": [],
   "source": [
    "# 중랑구 행정동 리스트에 담기\n",
    "zoong_dong_list = df.query(\"시군구명 == '중랑구'\")[\"행정동명\"].unique().tolist()"
   ]
  },
  {
   "cell_type": "code",
   "execution_count": 8,
   "id": "c52ec41c",
   "metadata": {},
   "outputs": [],
   "source": [
    "# 중랑구 행정동 정보 데이터프레임에 합치기\n",
    "for dong_name in zoong_dong_list:\n",
    "    dog = pd.DataFrame(df[df['행정동명'] == dong_name]['상권업종대분류명'].value_counts()).rename(columns={'상권업종대분류명': dong_name}).transpose()\n",
    "    yang_df = pd.concat([yang_df,dog], axis = 0)"
   ]
  },
  {
   "cell_type": "code",
   "execution_count": 9,
   "id": "a6a398f2",
   "metadata": {},
   "outputs": [],
   "source": [
    "# 행정동을 첫번쨰 컬럼으로 변경\n",
    "yang_df = yang_df.reset_index().rename(columns = {'index':'행정동명'})"
   ]
  },
  {
   "cell_type": "code",
   "execution_count": 10,
   "id": "99e62467",
   "metadata": {},
   "outputs": [],
   "source": [
    "# 반복되는 첫 행 삭제\n",
    "yang_df.drop(0, inplace = True)"
   ]
  },
  {
   "cell_type": "code",
   "execution_count": 11,
   "id": "5b63bde9",
   "metadata": {},
   "outputs": [
    {
     "data": {
      "text/plain": [
       "15"
      ]
     },
     "execution_count": 11,
     "metadata": {},
     "output_type": "execute_result"
    }
   ],
   "source": [
    "# 중구 행정동 리스트 만들기\n",
    "mid_dong_list = df.query(\"시군구명 == '중구'\")[\"행정동명\"].unique().tolist()\n",
    "len(mid_dong_list)"
   ]
  },
  {
   "cell_type": "code",
   "execution_count": 12,
   "id": "37a06a38",
   "metadata": {},
   "outputs": [
    {
     "data": {
      "text/plain": [
       "17"
      ]
     },
     "execution_count": 12,
     "metadata": {},
     "output_type": "execute_result"
    }
   ],
   "source": [
    "# 종로구 행정동 리스트 만들기\n",
    "zongro_dong_list = df.query(\"시군구명 == '종로구'\")[\"행정동명\"].unique().tolist()\n",
    "len(zongro_dong_list)"
   ]
  },
  {
   "cell_type": "code",
   "execution_count": 13,
   "id": "f826a0e7",
   "metadata": {},
   "outputs": [],
   "source": [
    "yang_df = yang_df.set_index(\"행정동명\")"
   ]
  },
  {
   "cell_type": "code",
   "execution_count": 14,
   "id": "850d0a45",
   "metadata": {},
   "outputs": [],
   "source": [
    "# 중구 행정동 정보 데이터프레임에 합치기\n",
    "for dong_name in mid_dong_list:\n",
    "    dog = pd.DataFrame(df[df['행정동명'] == dong_name]['상권업종대분류명'].value_counts()).rename(columns={'상권업종대분류명': dong_name}).transpose()\n",
    "    yang_df = pd.concat([yang_df,dog], axis = 0)"
   ]
  },
  {
   "cell_type": "code",
   "execution_count": 15,
   "id": "d437a7be",
   "metadata": {},
   "outputs": [],
   "source": [
    "for dong_name in zongro_dong_list:\n",
    "    dog = pd.DataFrame(df[df['행정동명'] == dong_name]['상권업종대분류명'].value_counts()).rename(columns={'상권업종대분류명': dong_name}).transpose()\n",
    "    yang_df = pd.concat([yang_df,dog], axis = 0)"
   ]
  },
  {
   "cell_type": "code",
   "execution_count": 16,
   "id": "5c3de51f",
   "metadata": {},
   "outputs": [],
   "source": [
    "df = yang_df"
   ]
  },
  {
   "cell_type": "code",
   "execution_count": 24,
   "id": "d6152584",
   "metadata": {},
   "outputs": [
    {
     "data": {
      "text/html": [
       "<div>\n",
       "<style scoped>\n",
       "    .dataframe tbody tr th:only-of-type {\n",
       "        vertical-align: middle;\n",
       "    }\n",
       "\n",
       "    .dataframe tbody tr th {\n",
       "        vertical-align: top;\n",
       "    }\n",
       "\n",
       "    .dataframe thead th {\n",
       "        text-align: right;\n",
       "    }\n",
       "</style>\n",
       "<table border=\"1\" class=\"dataframe\">\n",
       "  <thead>\n",
       "    <tr style=\"text-align: right;\">\n",
       "      <th></th>\n",
       "      <th>음식</th>\n",
       "      <th>소매</th>\n",
       "      <th>수리·개인</th>\n",
       "      <th>과학·기술</th>\n",
       "      <th>예술·스포츠</th>\n",
       "      <th>부동산</th>\n",
       "      <th>교육</th>\n",
       "      <th>시설관리·임대</th>\n",
       "      <th>숙박</th>\n",
       "      <th>보건의료</th>\n",
       "    </tr>\n",
       "  </thead>\n",
       "  <tbody>\n",
       "    <tr>\n",
       "      <th>신월5동</th>\n",
       "      <td>147</td>\n",
       "      <td>126</td>\n",
       "      <td>76</td>\n",
       "      <td>39</td>\n",
       "      <td>30</td>\n",
       "      <td>23</td>\n",
       "      <td>23</td>\n",
       "      <td>20</td>\n",
       "      <td>4.0</td>\n",
       "      <td>NaN</td>\n",
       "    </tr>\n",
       "    <tr>\n",
       "      <th>신월7동</th>\n",
       "      <td>152</td>\n",
       "      <td>133</td>\n",
       "      <td>75</td>\n",
       "      <td>31</td>\n",
       "      <td>38</td>\n",
       "      <td>30</td>\n",
       "      <td>17</td>\n",
       "      <td>17</td>\n",
       "      <td>1.0</td>\n",
       "      <td>NaN</td>\n",
       "    </tr>\n",
       "    <tr>\n",
       "      <th>신정2동</th>\n",
       "      <td>195</td>\n",
       "      <td>137</td>\n",
       "      <td>125</td>\n",
       "      <td>49</td>\n",
       "      <td>49</td>\n",
       "      <td>29</td>\n",
       "      <td>113</td>\n",
       "      <td>12</td>\n",
       "      <td>3.0</td>\n",
       "      <td>10.0</td>\n",
       "    </tr>\n",
       "    <tr>\n",
       "      <th>신정6동</th>\n",
       "      <td>69</td>\n",
       "      <td>40</td>\n",
       "      <td>22</td>\n",
       "      <td>43</td>\n",
       "      <td>9</td>\n",
       "      <td>15</td>\n",
       "      <td>104</td>\n",
       "      <td>2</td>\n",
       "      <td>NaN</td>\n",
       "      <td>4.0</td>\n",
       "    </tr>\n",
       "    <tr>\n",
       "      <th>신정4동</th>\n",
       "      <td>546</td>\n",
       "      <td>428</td>\n",
       "      <td>277</td>\n",
       "      <td>353</td>\n",
       "      <td>116</td>\n",
       "      <td>108</td>\n",
       "      <td>121</td>\n",
       "      <td>88</td>\n",
       "      <td>23.0</td>\n",
       "      <td>34.0</td>\n",
       "    </tr>\n",
       "    <tr>\n",
       "      <th>신월1동</th>\n",
       "      <td>277</td>\n",
       "      <td>280</td>\n",
       "      <td>138</td>\n",
       "      <td>40</td>\n",
       "      <td>44</td>\n",
       "      <td>38</td>\n",
       "      <td>21</td>\n",
       "      <td>17</td>\n",
       "      <td>3.0</td>\n",
       "      <td>4.0</td>\n",
       "    </tr>\n",
       "    <tr>\n",
       "      <th>신정1동</th>\n",
       "      <td>259</td>\n",
       "      <td>147</td>\n",
       "      <td>92</td>\n",
       "      <td>84</td>\n",
       "      <td>47</td>\n",
       "      <td>37</td>\n",
       "      <td>52</td>\n",
       "      <td>17</td>\n",
       "      <td>5.0</td>\n",
       "      <td>8.0</td>\n",
       "    </tr>\n",
       "    <tr>\n",
       "      <th>신정7동</th>\n",
       "      <td>156</td>\n",
       "      <td>95</td>\n",
       "      <td>62</td>\n",
       "      <td>20</td>\n",
       "      <td>32</td>\n",
       "      <td>12</td>\n",
       "      <td>57</td>\n",
       "      <td>12</td>\n",
       "      <td>NaN</td>\n",
       "      <td>10.0</td>\n",
       "    </tr>\n",
       "    <tr>\n",
       "      <th>신월4동</th>\n",
       "      <td>176</td>\n",
       "      <td>111</td>\n",
       "      <td>79</td>\n",
       "      <td>24</td>\n",
       "      <td>29</td>\n",
       "      <td>20</td>\n",
       "      <td>31</td>\n",
       "      <td>17</td>\n",
       "      <td>NaN</td>\n",
       "      <td>5.0</td>\n",
       "    </tr>\n",
       "    <tr>\n",
       "      <th>신월2동</th>\n",
       "      <td>107</td>\n",
       "      <td>104</td>\n",
       "      <td>68</td>\n",
       "      <td>28</td>\n",
       "      <td>13</td>\n",
       "      <td>37</td>\n",
       "      <td>25</td>\n",
       "      <td>21</td>\n",
       "      <td>4.0</td>\n",
       "      <td>8.0</td>\n",
       "    </tr>\n",
       "  </tbody>\n",
       "</table>\n",
       "</div>"
      ],
      "text/plain": [
       "       음식   소매  수리·개인  과학·기술  예술·스포츠  부동산   교육  시설관리·임대    숙박  보건의료\n",
       "신월5동  147  126     76     39      30   23   23       20   4.0   NaN\n",
       "신월7동  152  133     75     31      38   30   17       17   1.0   NaN\n",
       "신정2동  195  137    125     49      49   29  113       12   3.0  10.0\n",
       "신정6동   69   40     22     43       9   15  104        2   NaN   4.0\n",
       "신정4동  546  428    277    353     116  108  121       88  23.0  34.0\n",
       "신월1동  277  280    138     40      44   38   21       17   3.0   4.0\n",
       "신정1동  259  147     92     84      47   37   52       17   5.0   8.0\n",
       "신정7동  156   95     62     20      32   12   57       12   NaN  10.0\n",
       "신월4동  176  111     79     24      29   20   31       17   NaN   5.0\n",
       "신월2동  107  104     68     28      13   37   25       21   4.0   8.0"
      ]
     },
     "execution_count": 24,
     "metadata": {},
     "output_type": "execute_result"
    }
   ],
   "source": [
    "# 4개의 행정구의 행정동 별 업종개수 담은 데이터\n",
    "df[df.index.isin(['신월1동', '신월2동', '신월4동', '신월5동', '신월7동', '신정1동', '신정2동', '신정6동', '신정7동', '신정4동'])]"
   ]
  },
  {
   "cell_type": "code",
   "execution_count": 18,
   "id": "d7fefc96",
   "metadata": {},
   "outputs": [
    {
     "data": {
      "text/html": [
       "<div>\n",
       "<style scoped>\n",
       "    .dataframe tbody tr th:only-of-type {\n",
       "        vertical-align: middle;\n",
       "    }\n",
       "\n",
       "    .dataframe tbody tr th {\n",
       "        vertical-align: top;\n",
       "    }\n",
       "\n",
       "    .dataframe thead th {\n",
       "        text-align: right;\n",
       "    }\n",
       "</style>\n",
       "<table border=\"1\" class=\"dataframe\">\n",
       "  <thead>\n",
       "    <tr style=\"text-align: right;\">\n",
       "      <th></th>\n",
       "      <th>음식</th>\n",
       "      <th>소매</th>\n",
       "      <th>수리·개인</th>\n",
       "      <th>과학·기술</th>\n",
       "      <th>예술·스포츠</th>\n",
       "      <th>부동산</th>\n",
       "      <th>교육</th>\n",
       "      <th>시설관리·임대</th>\n",
       "      <th>숙박</th>\n",
       "      <th>보건의료</th>\n",
       "    </tr>\n",
       "  </thead>\n",
       "  <tbody>\n",
       "    <tr>\n",
       "      <th>신월5동</th>\n",
       "      <td>147</td>\n",
       "      <td>126</td>\n",
       "      <td>76</td>\n",
       "      <td>39</td>\n",
       "      <td>30</td>\n",
       "      <td>23</td>\n",
       "      <td>23</td>\n",
       "      <td>20</td>\n",
       "      <td>4.0</td>\n",
       "      <td>NaN</td>\n",
       "    </tr>\n",
       "    <tr>\n",
       "      <th>신월7동</th>\n",
       "      <td>152</td>\n",
       "      <td>133</td>\n",
       "      <td>75</td>\n",
       "      <td>31</td>\n",
       "      <td>38</td>\n",
       "      <td>30</td>\n",
       "      <td>17</td>\n",
       "      <td>17</td>\n",
       "      <td>1.0</td>\n",
       "      <td>NaN</td>\n",
       "    </tr>\n",
       "    <tr>\n",
       "      <th>신정2동</th>\n",
       "      <td>195</td>\n",
       "      <td>137</td>\n",
       "      <td>125</td>\n",
       "      <td>49</td>\n",
       "      <td>49</td>\n",
       "      <td>29</td>\n",
       "      <td>113</td>\n",
       "      <td>12</td>\n",
       "      <td>3.0</td>\n",
       "      <td>10.0</td>\n",
       "    </tr>\n",
       "    <tr>\n",
       "      <th>신정6동</th>\n",
       "      <td>69</td>\n",
       "      <td>40</td>\n",
       "      <td>22</td>\n",
       "      <td>43</td>\n",
       "      <td>9</td>\n",
       "      <td>15</td>\n",
       "      <td>104</td>\n",
       "      <td>2</td>\n",
       "      <td>NaN</td>\n",
       "      <td>4.0</td>\n",
       "    </tr>\n",
       "    <tr>\n",
       "      <th>신정3동</th>\n",
       "      <td>165</td>\n",
       "      <td>150</td>\n",
       "      <td>102</td>\n",
       "      <td>49</td>\n",
       "      <td>53</td>\n",
       "      <td>47</td>\n",
       "      <td>55</td>\n",
       "      <td>27</td>\n",
       "      <td>4.0</td>\n",
       "      <td>27.0</td>\n",
       "    </tr>\n",
       "    <tr>\n",
       "      <th>...</th>\n",
       "      <td>...</td>\n",
       "      <td>...</td>\n",
       "      <td>...</td>\n",
       "      <td>...</td>\n",
       "      <td>...</td>\n",
       "      <td>...</td>\n",
       "      <td>...</td>\n",
       "      <td>...</td>\n",
       "      <td>...</td>\n",
       "      <td>...</td>\n",
       "    </tr>\n",
       "    <tr>\n",
       "      <th>이화동</th>\n",
       "      <td>334</td>\n",
       "      <td>143</td>\n",
       "      <td>26</td>\n",
       "      <td>118</td>\n",
       "      <td>29</td>\n",
       "      <td>11</td>\n",
       "      <td>42</td>\n",
       "      <td>25</td>\n",
       "      <td>8.0</td>\n",
       "      <td>21.0</td>\n",
       "    </tr>\n",
       "    <tr>\n",
       "      <th>창신2동</th>\n",
       "      <td>134</td>\n",
       "      <td>92</td>\n",
       "      <td>37</td>\n",
       "      <td>28</td>\n",
       "      <td>14</td>\n",
       "      <td>16</td>\n",
       "      <td>4</td>\n",
       "      <td>8</td>\n",
       "      <td>11.0</td>\n",
       "      <td>2.0</td>\n",
       "    </tr>\n",
       "    <tr>\n",
       "      <th>숭인1동</th>\n",
       "      <td>47</td>\n",
       "      <td>48</td>\n",
       "      <td>37</td>\n",
       "      <td>20</td>\n",
       "      <td>1</td>\n",
       "      <td>12</td>\n",
       "      <td>9</td>\n",
       "      <td>5</td>\n",
       "      <td>4.0</td>\n",
       "      <td>4.0</td>\n",
       "    </tr>\n",
       "    <tr>\n",
       "      <th>청운효자동</th>\n",
       "      <td>289</td>\n",
       "      <td>192</td>\n",
       "      <td>46</td>\n",
       "      <td>166</td>\n",
       "      <td>9</td>\n",
       "      <td>34</td>\n",
       "      <td>39</td>\n",
       "      <td>33</td>\n",
       "      <td>32.0</td>\n",
       "      <td>6.0</td>\n",
       "    </tr>\n",
       "    <tr>\n",
       "      <th>창신3동</th>\n",
       "      <td>32</td>\n",
       "      <td>25</td>\n",
       "      <td>15</td>\n",
       "      <td>9</td>\n",
       "      <td>4</td>\n",
       "      <td>14</td>\n",
       "      <td>5</td>\n",
       "      <td>2</td>\n",
       "      <td>5.0</td>\n",
       "      <td>NaN</td>\n",
       "    </tr>\n",
       "  </tbody>\n",
       "</table>\n",
       "<p>66 rows × 10 columns</p>\n",
       "</div>"
      ],
      "text/plain": [
       "        음식   소매  수리·개인  과학·기술  예술·스포츠  부동산   교육  시설관리·임대    숙박  보건의료\n",
       "신월5동   147  126     76     39      30   23   23       20   4.0   NaN\n",
       "신월7동   152  133     75     31      38   30   17       17   1.0   NaN\n",
       "신정2동   195  137    125     49      49   29  113       12   3.0  10.0\n",
       "신정6동    69   40     22     43       9   15  104        2   NaN   4.0\n",
       "신정3동   165  150    102     49      53   47   55       27   4.0  27.0\n",
       "...    ...  ...    ...    ...     ...  ...  ...      ...   ...   ...\n",
       "이화동    334  143     26    118      29   11   42       25   8.0  21.0\n",
       "창신2동   134   92     37     28      14   16    4        8  11.0   2.0\n",
       "숭인1동    47   48     37     20       1   12    9        5   4.0   4.0\n",
       "청운효자동  289  192     46    166       9   34   39       33  32.0   6.0\n",
       "창신3동    32   25     15      9       4   14    5        2   5.0   NaN\n",
       "\n",
       "[66 rows x 10 columns]"
      ]
     },
     "execution_count": 18,
     "metadata": {},
     "output_type": "execute_result"
    }
   ],
   "source": [
    "df"
   ]
  },
  {
   "cell_type": "markdown",
   "id": "d6a625a2",
   "metadata": {},
   "source": [
    "# 직장인구 컬럼 추가"
   ]
  },
  {
   "cell_type": "code",
   "execution_count": 23,
   "id": "04ca4fb2",
   "metadata": {},
   "outputs": [],
   "source": [
    "worker = pd.read_csv(\"서울시 상권분석서비스(직장인구-행정동).csv\", encoding = \"EUC-kr\")"
   ]
  },
  {
   "cell_type": "code",
   "execution_count": 24,
   "id": "85be7824",
   "metadata": {},
   "outputs": [
    {
     "data": {
      "text/html": [
       "<div>\n",
       "<style scoped>\n",
       "    .dataframe tbody tr th:only-of-type {\n",
       "        vertical-align: middle;\n",
       "    }\n",
       "\n",
       "    .dataframe tbody tr th {\n",
       "        vertical-align: top;\n",
       "    }\n",
       "\n",
       "    .dataframe thead th {\n",
       "        text-align: right;\n",
       "    }\n",
       "</style>\n",
       "<table border=\"1\" class=\"dataframe\">\n",
       "  <thead>\n",
       "    <tr style=\"text-align: right;\">\n",
       "      <th></th>\n",
       "      <th>기준_년분기_코드</th>\n",
       "      <th>행정동_코드</th>\n",
       "      <th>행정동_코드_명</th>\n",
       "      <th>총_직장_인구_수</th>\n",
       "      <th>남성_직장_인구_수</th>\n",
       "      <th>여성_직장_인구_수</th>\n",
       "      <th>연령대_10_직장_인구_수</th>\n",
       "      <th>연령대_20_직장_인구_수</th>\n",
       "      <th>연령대_30_직장_인구_수</th>\n",
       "      <th>연령대_40_직장_인구_수</th>\n",
       "      <th>...</th>\n",
       "      <th>남성연령대_30_직장_인구_수</th>\n",
       "      <th>남성연령대_40_직장_인구_수</th>\n",
       "      <th>남성연령대_50_직장_인구_수</th>\n",
       "      <th>남성연령대_60_이상_직장_인구_수</th>\n",
       "      <th>여성연령대_10_직장_인구_수</th>\n",
       "      <th>여성연령대_20_직장_인구_수</th>\n",
       "      <th>여성연령대_30_직장_인구_수</th>\n",
       "      <th>여성연령대_40_직장_인구_수</th>\n",
       "      <th>여성연령대_50_직장_인구_수</th>\n",
       "      <th>여성연령대_60_이상_직장_인구_수</th>\n",
       "    </tr>\n",
       "  </thead>\n",
       "  <tbody>\n",
       "    <tr>\n",
       "      <th>0</th>\n",
       "      <td>20191</td>\n",
       "      <td>11110600</td>\n",
       "      <td>가회동</td>\n",
       "      <td>22078</td>\n",
       "      <td>18464</td>\n",
       "      <td>3614</td>\n",
       "      <td>36</td>\n",
       "      <td>2844</td>\n",
       "      <td>8418</td>\n",
       "      <td>5997</td>\n",
       "      <td>...</td>\n",
       "      <td>7075</td>\n",
       "      <td>5310</td>\n",
       "      <td>3712</td>\n",
       "      <td>583</td>\n",
       "      <td>19</td>\n",
       "      <td>1077</td>\n",
       "      <td>1343</td>\n",
       "      <td>687</td>\n",
       "      <td>337</td>\n",
       "      <td>151</td>\n",
       "    </tr>\n",
       "    <tr>\n",
       "      <th>1</th>\n",
       "      <td>20191</td>\n",
       "      <td>11110560</td>\n",
       "      <td>평창동</td>\n",
       "      <td>2458</td>\n",
       "      <td>1110</td>\n",
       "      <td>1348</td>\n",
       "      <td>6</td>\n",
       "      <td>340</td>\n",
       "      <td>515</td>\n",
       "      <td>525</td>\n",
       "      <td>...</td>\n",
       "      <td>235</td>\n",
       "      <td>261</td>\n",
       "      <td>239</td>\n",
       "      <td>266</td>\n",
       "      <td>2</td>\n",
       "      <td>235</td>\n",
       "      <td>280</td>\n",
       "      <td>264</td>\n",
       "      <td>344</td>\n",
       "      <td>223</td>\n",
       "    </tr>\n",
       "    <tr>\n",
       "      <th>2</th>\n",
       "      <td>20191</td>\n",
       "      <td>11110650</td>\n",
       "      <td>혜화동</td>\n",
       "      <td>5330</td>\n",
       "      <td>2736</td>\n",
       "      <td>2594</td>\n",
       "      <td>20</td>\n",
       "      <td>907</td>\n",
       "      <td>1322</td>\n",
       "      <td>1338</td>\n",
       "      <td>...</td>\n",
       "      <td>591</td>\n",
       "      <td>716</td>\n",
       "      <td>657</td>\n",
       "      <td>421</td>\n",
       "      <td>12</td>\n",
       "      <td>564</td>\n",
       "      <td>731</td>\n",
       "      <td>622</td>\n",
       "      <td>458</td>\n",
       "      <td>207</td>\n",
       "    </tr>\n",
       "    <tr>\n",
       "      <th>3</th>\n",
       "      <td>20191</td>\n",
       "      <td>11140650</td>\n",
       "      <td>신당5동</td>\n",
       "      <td>2047</td>\n",
       "      <td>908</td>\n",
       "      <td>1139</td>\n",
       "      <td>6</td>\n",
       "      <td>288</td>\n",
       "      <td>511</td>\n",
       "      <td>484</td>\n",
       "      <td>...</td>\n",
       "      <td>238</td>\n",
       "      <td>228</td>\n",
       "      <td>192</td>\n",
       "      <td>143</td>\n",
       "      <td>3</td>\n",
       "      <td>184</td>\n",
       "      <td>273</td>\n",
       "      <td>256</td>\n",
       "      <td>276</td>\n",
       "      <td>147</td>\n",
       "    </tr>\n",
       "    <tr>\n",
       "      <th>4</th>\n",
       "      <td>20191</td>\n",
       "      <td>11170660</td>\n",
       "      <td>이태원2동</td>\n",
       "      <td>2658</td>\n",
       "      <td>1434</td>\n",
       "      <td>1224</td>\n",
       "      <td>15</td>\n",
       "      <td>485</td>\n",
       "      <td>679</td>\n",
       "      <td>481</td>\n",
       "      <td>...</td>\n",
       "      <td>378</td>\n",
       "      <td>257</td>\n",
       "      <td>224</td>\n",
       "      <td>341</td>\n",
       "      <td>5</td>\n",
       "      <td>261</td>\n",
       "      <td>301</td>\n",
       "      <td>224</td>\n",
       "      <td>201</td>\n",
       "      <td>232</td>\n",
       "    </tr>\n",
       "    <tr>\n",
       "      <th>...</th>\n",
       "      <td>...</td>\n",
       "      <td>...</td>\n",
       "      <td>...</td>\n",
       "      <td>...</td>\n",
       "      <td>...</td>\n",
       "      <td>...</td>\n",
       "      <td>...</td>\n",
       "      <td>...</td>\n",
       "      <td>...</td>\n",
       "      <td>...</td>\n",
       "      <td>...</td>\n",
       "      <td>...</td>\n",
       "      <td>...</td>\n",
       "      <td>...</td>\n",
       "      <td>...</td>\n",
       "      <td>...</td>\n",
       "      <td>...</td>\n",
       "      <td>...</td>\n",
       "      <td>...</td>\n",
       "      <td>...</td>\n",
       "      <td>...</td>\n",
       "    </tr>\n",
       "    <tr>\n",
       "      <th>7631</th>\n",
       "      <td>20232</td>\n",
       "      <td>11710641</td>\n",
       "      <td>문정1동</td>\n",
       "      <td>34975</td>\n",
       "      <td>27013</td>\n",
       "      <td>7962</td>\n",
       "      <td>17</td>\n",
       "      <td>3178</td>\n",
       "      <td>6528</td>\n",
       "      <td>10070</td>\n",
       "      <td>...</td>\n",
       "      <td>4711</td>\n",
       "      <td>7830</td>\n",
       "      <td>11299</td>\n",
       "      <td>1295</td>\n",
       "      <td>8</td>\n",
       "      <td>1309</td>\n",
       "      <td>1817</td>\n",
       "      <td>2240</td>\n",
       "      <td>1897</td>\n",
       "      <td>691</td>\n",
       "    </tr>\n",
       "    <tr>\n",
       "      <th>7632</th>\n",
       "      <td>20232</td>\n",
       "      <td>11740540</td>\n",
       "      <td>명일2동</td>\n",
       "      <td>2874</td>\n",
       "      <td>1969</td>\n",
       "      <td>905</td>\n",
       "      <td>5</td>\n",
       "      <td>337</td>\n",
       "      <td>819</td>\n",
       "      <td>768</td>\n",
       "      <td>...</td>\n",
       "      <td>581</td>\n",
       "      <td>558</td>\n",
       "      <td>393</td>\n",
       "      <td>262</td>\n",
       "      <td>2</td>\n",
       "      <td>165</td>\n",
       "      <td>238</td>\n",
       "      <td>210</td>\n",
       "      <td>217</td>\n",
       "      <td>73</td>\n",
       "    </tr>\n",
       "    <tr>\n",
       "      <th>7633</th>\n",
       "      <td>20232</td>\n",
       "      <td>11740660</td>\n",
       "      <td>성내3동</td>\n",
       "      <td>4641</td>\n",
       "      <td>2789</td>\n",
       "      <td>1852</td>\n",
       "      <td>15</td>\n",
       "      <td>658</td>\n",
       "      <td>1034</td>\n",
       "      <td>1162</td>\n",
       "      <td>...</td>\n",
       "      <td>656</td>\n",
       "      <td>703</td>\n",
       "      <td>541</td>\n",
       "      <td>532</td>\n",
       "      <td>2</td>\n",
       "      <td>314</td>\n",
       "      <td>378</td>\n",
       "      <td>459</td>\n",
       "      <td>421</td>\n",
       "      <td>278</td>\n",
       "    </tr>\n",
       "    <tr>\n",
       "      <th>7634</th>\n",
       "      <td>20232</td>\n",
       "      <td>11740610</td>\n",
       "      <td>천호2동</td>\n",
       "      <td>3817</td>\n",
       "      <td>1970</td>\n",
       "      <td>1847</td>\n",
       "      <td>14</td>\n",
       "      <td>484</td>\n",
       "      <td>802</td>\n",
       "      <td>933</td>\n",
       "      <td>...</td>\n",
       "      <td>378</td>\n",
       "      <td>464</td>\n",
       "      <td>440</td>\n",
       "      <td>481</td>\n",
       "      <td>6</td>\n",
       "      <td>285</td>\n",
       "      <td>424</td>\n",
       "      <td>469</td>\n",
       "      <td>444</td>\n",
       "      <td>219</td>\n",
       "    </tr>\n",
       "    <tr>\n",
       "      <th>7635</th>\n",
       "      <td>20232</td>\n",
       "      <td>11740620</td>\n",
       "      <td>천호3동</td>\n",
       "      <td>2763</td>\n",
       "      <td>1566</td>\n",
       "      <td>1197</td>\n",
       "      <td>3</td>\n",
       "      <td>170</td>\n",
       "      <td>305</td>\n",
       "      <td>475</td>\n",
       "      <td>...</td>\n",
       "      <td>139</td>\n",
       "      <td>236</td>\n",
       "      <td>255</td>\n",
       "      <td>869</td>\n",
       "      <td>0</td>\n",
       "      <td>106</td>\n",
       "      <td>166</td>\n",
       "      <td>239</td>\n",
       "      <td>247</td>\n",
       "      <td>439</td>\n",
       "    </tr>\n",
       "  </tbody>\n",
       "</table>\n",
       "<p>7636 rows × 24 columns</p>\n",
       "</div>"
      ],
      "text/plain": [
       "      기준_년분기_코드    행정동_코드 행정동_코드_명  총_직장_인구_수  남성_직장_인구_수  여성_직장_인구_수  \\\n",
       "0         20191  11110600      가회동      22078       18464        3614   \n",
       "1         20191  11110560      평창동       2458        1110        1348   \n",
       "2         20191  11110650      혜화동       5330        2736        2594   \n",
       "3         20191  11140650     신당5동       2047         908        1139   \n",
       "4         20191  11170660    이태원2동       2658        1434        1224   \n",
       "...         ...       ...      ...        ...         ...         ...   \n",
       "7631      20232  11710641     문정1동      34975       27013        7962   \n",
       "7632      20232  11740540     명일2동       2874        1969         905   \n",
       "7633      20232  11740660     성내3동       4641        2789        1852   \n",
       "7634      20232  11740610     천호2동       3817        1970        1847   \n",
       "7635      20232  11740620     천호3동       2763        1566        1197   \n",
       "\n",
       "      연령대_10_직장_인구_수  연령대_20_직장_인구_수  연령대_30_직장_인구_수  연령대_40_직장_인구_수  ...  \\\n",
       "0                 36            2844            8418            5997  ...   \n",
       "1                  6             340             515             525  ...   \n",
       "2                 20             907            1322            1338  ...   \n",
       "3                  6             288             511             484  ...   \n",
       "4                 15             485             679             481  ...   \n",
       "...              ...             ...             ...             ...  ...   \n",
       "7631              17            3178            6528           10070  ...   \n",
       "7632               5             337             819             768  ...   \n",
       "7633              15             658            1034            1162  ...   \n",
       "7634              14             484             802             933  ...   \n",
       "7635               3             170             305             475  ...   \n",
       "\n",
       "      남성연령대_30_직장_인구_수  남성연령대_40_직장_인구_수  남성연령대_50_직장_인구_수  \\\n",
       "0                 7075              5310              3712   \n",
       "1                  235               261               239   \n",
       "2                  591               716               657   \n",
       "3                  238               228               192   \n",
       "4                  378               257               224   \n",
       "...                ...               ...               ...   \n",
       "7631              4711              7830             11299   \n",
       "7632               581               558               393   \n",
       "7633               656               703               541   \n",
       "7634               378               464               440   \n",
       "7635               139               236               255   \n",
       "\n",
       "      남성연령대_60_이상_직장_인구_수  여성연령대_10_직장_인구_수  여성연령대_20_직장_인구_수  \\\n",
       "0                     583                19              1077   \n",
       "1                     266                 2               235   \n",
       "2                     421                12               564   \n",
       "3                     143                 3               184   \n",
       "4                     341                 5               261   \n",
       "...                   ...               ...               ...   \n",
       "7631                 1295                 8              1309   \n",
       "7632                  262                 2               165   \n",
       "7633                  532                 2               314   \n",
       "7634                  481                 6               285   \n",
       "7635                  869                 0               106   \n",
       "\n",
       "      여성연령대_30_직장_인구_수  여성연령대_40_직장_인구_수  여성연령대_50_직장_인구_수  \\\n",
       "0                 1343               687               337   \n",
       "1                  280               264               344   \n",
       "2                  731               622               458   \n",
       "3                  273               256               276   \n",
       "4                  301               224               201   \n",
       "...                ...               ...               ...   \n",
       "7631              1817              2240              1897   \n",
       "7632               238               210               217   \n",
       "7633               378               459               421   \n",
       "7634               424               469               444   \n",
       "7635               166               239               247   \n",
       "\n",
       "      여성연령대_60_이상_직장_인구_수  \n",
       "0                     151  \n",
       "1                     223  \n",
       "2                     207  \n",
       "3                     147  \n",
       "4                     232  \n",
       "...                   ...  \n",
       "7631                  691  \n",
       "7632                   73  \n",
       "7633                  278  \n",
       "7634                  219  \n",
       "7635                  439  \n",
       "\n",
       "[7636 rows x 24 columns]"
      ]
     },
     "execution_count": 24,
     "metadata": {},
     "output_type": "execute_result"
    }
   ],
   "source": [
    "worker"
   ]
  },
  {
   "cell_type": "code",
   "execution_count": 25,
   "id": "8b77d93e",
   "metadata": {},
   "outputs": [],
   "source": [
    "# 업종개수 데이터가 2023년 6월 기준이었기 때문에 기준년분기를 2023년 2분기로 설정\n",
    "worker_20232 = worker.query(\"기준_년분기_코드 == 20232\")"
   ]
  },
  {
   "cell_type": "code",
   "execution_count": 26,
   "id": "91cb275f",
   "metadata": {},
   "outputs": [],
   "source": [
    "worker_20232 = worker_20232[[\"행정동_코드_명\", \"총_직장_인구_수\"]]"
   ]
  },
  {
   "cell_type": "code",
   "execution_count": 27,
   "id": "96527a8f",
   "metadata": {},
   "outputs": [],
   "source": [
    "worker_20232 = worker_20232.rename(columns = {'행정동_코드_명':'행정동명'})"
   ]
  },
  {
   "cell_type": "code",
   "execution_count": 28,
   "id": "57049ea3",
   "metadata": {},
   "outputs": [],
   "source": [
    "# 행정동 이름 변경\n",
    "worker_20232.행정동명.replace(\"면목3?8동\", \"면목3.8동\", inplace = True)\n",
    "worker_20232.행정동명.replace(\"종로1?2?3?4가동\", \"종로1.2.3.4가동\", inplace = True)\n",
    "worker_20232.행정동명.replace(\"종로5?6가동\", \"종로5.6가동\", inplace = True)"
   ]
  },
  {
   "cell_type": "code",
   "execution_count": 29,
   "id": "e032172b",
   "metadata": {},
   "outputs": [
    {
     "ename": "KeyError",
     "evalue": "'행정동명'",
     "output_type": "error",
     "traceback": [
      "\u001b[1;31m---------------------------------------------------------------------------\u001b[0m",
      "\u001b[1;31mKeyError\u001b[0m                                  Traceback (most recent call last)",
      "Cell \u001b[1;32mIn[29], line 2\u001b[0m\n\u001b[0;32m      1\u001b[0m \u001b[38;5;66;03m# 데이터 합치기\u001b[39;00m\n\u001b[1;32m----> 2\u001b[0m df \u001b[38;5;241m=\u001b[39m \u001b[43mpd\u001b[49m\u001b[38;5;241;43m.\u001b[39;49m\u001b[43mmerge\u001b[49m\u001b[43m(\u001b[49m\u001b[43mdf\u001b[49m\u001b[43m,\u001b[49m\u001b[43m \u001b[49m\u001b[43mworker_20232\u001b[49m\u001b[43m,\u001b[49m\u001b[43m \u001b[49m\u001b[43mhow\u001b[49m\u001b[43m \u001b[49m\u001b[38;5;241;43m=\u001b[39;49m\u001b[43m \u001b[49m\u001b[38;5;124;43m'\u001b[39;49m\u001b[38;5;124;43mleft\u001b[39;49m\u001b[38;5;124;43m'\u001b[39;49m\u001b[43m,\u001b[49m\u001b[43m \u001b[49m\u001b[43mon\u001b[49m\u001b[43m \u001b[49m\u001b[38;5;241;43m=\u001b[39;49m\u001b[43m \u001b[49m\u001b[38;5;124;43m'\u001b[39;49m\u001b[38;5;124;43m행정동명\u001b[39;49m\u001b[38;5;124;43m'\u001b[39;49m\u001b[43m)\u001b[49m\n",
      "File \u001b[1;32m~\\anaconda3\\lib\\site-packages\\pandas\\core\\reshape\\merge.py:110\u001b[0m, in \u001b[0;36mmerge\u001b[1;34m(left, right, how, on, left_on, right_on, left_index, right_index, sort, suffixes, copy, indicator, validate)\u001b[0m\n\u001b[0;32m     93\u001b[0m \u001b[38;5;129m@Substitution\u001b[39m(\u001b[38;5;124m\"\u001b[39m\u001b[38;5;130;01m\\n\u001b[39;00m\u001b[38;5;124mleft : DataFrame or named Series\u001b[39m\u001b[38;5;124m\"\u001b[39m)\n\u001b[0;32m     94\u001b[0m \u001b[38;5;129m@Appender\u001b[39m(_merge_doc, indents\u001b[38;5;241m=\u001b[39m\u001b[38;5;241m0\u001b[39m)\n\u001b[0;32m     95\u001b[0m \u001b[38;5;28;01mdef\u001b[39;00m \u001b[38;5;21mmerge\u001b[39m(\n\u001b[1;32m   (...)\u001b[0m\n\u001b[0;32m    108\u001b[0m     validate: \u001b[38;5;28mstr\u001b[39m \u001b[38;5;241m|\u001b[39m \u001b[38;5;28;01mNone\u001b[39;00m \u001b[38;5;241m=\u001b[39m \u001b[38;5;28;01mNone\u001b[39;00m,\n\u001b[0;32m    109\u001b[0m ) \u001b[38;5;241m-\u001b[39m\u001b[38;5;241m>\u001b[39m DataFrame:\n\u001b[1;32m--> 110\u001b[0m     op \u001b[38;5;241m=\u001b[39m \u001b[43m_MergeOperation\u001b[49m\u001b[43m(\u001b[49m\n\u001b[0;32m    111\u001b[0m \u001b[43m        \u001b[49m\u001b[43mleft\u001b[49m\u001b[43m,\u001b[49m\n\u001b[0;32m    112\u001b[0m \u001b[43m        \u001b[49m\u001b[43mright\u001b[49m\u001b[43m,\u001b[49m\n\u001b[0;32m    113\u001b[0m \u001b[43m        \u001b[49m\u001b[43mhow\u001b[49m\u001b[38;5;241;43m=\u001b[39;49m\u001b[43mhow\u001b[49m\u001b[43m,\u001b[49m\n\u001b[0;32m    114\u001b[0m \u001b[43m        \u001b[49m\u001b[43mon\u001b[49m\u001b[38;5;241;43m=\u001b[39;49m\u001b[43mon\u001b[49m\u001b[43m,\u001b[49m\n\u001b[0;32m    115\u001b[0m \u001b[43m        \u001b[49m\u001b[43mleft_on\u001b[49m\u001b[38;5;241;43m=\u001b[39;49m\u001b[43mleft_on\u001b[49m\u001b[43m,\u001b[49m\n\u001b[0;32m    116\u001b[0m \u001b[43m        \u001b[49m\u001b[43mright_on\u001b[49m\u001b[38;5;241;43m=\u001b[39;49m\u001b[43mright_on\u001b[49m\u001b[43m,\u001b[49m\n\u001b[0;32m    117\u001b[0m \u001b[43m        \u001b[49m\u001b[43mleft_index\u001b[49m\u001b[38;5;241;43m=\u001b[39;49m\u001b[43mleft_index\u001b[49m\u001b[43m,\u001b[49m\n\u001b[0;32m    118\u001b[0m \u001b[43m        \u001b[49m\u001b[43mright_index\u001b[49m\u001b[38;5;241;43m=\u001b[39;49m\u001b[43mright_index\u001b[49m\u001b[43m,\u001b[49m\n\u001b[0;32m    119\u001b[0m \u001b[43m        \u001b[49m\u001b[43msort\u001b[49m\u001b[38;5;241;43m=\u001b[39;49m\u001b[43msort\u001b[49m\u001b[43m,\u001b[49m\n\u001b[0;32m    120\u001b[0m \u001b[43m        \u001b[49m\u001b[43msuffixes\u001b[49m\u001b[38;5;241;43m=\u001b[39;49m\u001b[43msuffixes\u001b[49m\u001b[43m,\u001b[49m\n\u001b[0;32m    121\u001b[0m \u001b[43m        \u001b[49m\u001b[43mindicator\u001b[49m\u001b[38;5;241;43m=\u001b[39;49m\u001b[43mindicator\u001b[49m\u001b[43m,\u001b[49m\n\u001b[0;32m    122\u001b[0m \u001b[43m        \u001b[49m\u001b[43mvalidate\u001b[49m\u001b[38;5;241;43m=\u001b[39;49m\u001b[43mvalidate\u001b[49m\u001b[43m,\u001b[49m\n\u001b[0;32m    123\u001b[0m \u001b[43m    \u001b[49m\u001b[43m)\u001b[49m\n\u001b[0;32m    124\u001b[0m     \u001b[38;5;28;01mreturn\u001b[39;00m op\u001b[38;5;241m.\u001b[39mget_result(copy\u001b[38;5;241m=\u001b[39mcopy)\n",
      "File \u001b[1;32m~\\anaconda3\\lib\\site-packages\\pandas\\core\\reshape\\merge.py:703\u001b[0m, in \u001b[0;36m_MergeOperation.__init__\u001b[1;34m(self, left, right, how, on, left_on, right_on, axis, left_index, right_index, sort, suffixes, indicator, validate)\u001b[0m\n\u001b[0;32m    696\u001b[0m \u001b[38;5;28mself\u001b[39m\u001b[38;5;241m.\u001b[39m_cross \u001b[38;5;241m=\u001b[39m cross_col\n\u001b[0;32m    698\u001b[0m \u001b[38;5;66;03m# note this function has side effects\u001b[39;00m\n\u001b[0;32m    699\u001b[0m (\n\u001b[0;32m    700\u001b[0m     \u001b[38;5;28mself\u001b[39m\u001b[38;5;241m.\u001b[39mleft_join_keys,\n\u001b[0;32m    701\u001b[0m     \u001b[38;5;28mself\u001b[39m\u001b[38;5;241m.\u001b[39mright_join_keys,\n\u001b[0;32m    702\u001b[0m     \u001b[38;5;28mself\u001b[39m\u001b[38;5;241m.\u001b[39mjoin_names,\n\u001b[1;32m--> 703\u001b[0m ) \u001b[38;5;241m=\u001b[39m \u001b[38;5;28;43mself\u001b[39;49m\u001b[38;5;241;43m.\u001b[39;49m\u001b[43m_get_merge_keys\u001b[49m\u001b[43m(\u001b[49m\u001b[43m)\u001b[49m\n\u001b[0;32m    705\u001b[0m \u001b[38;5;66;03m# validate the merge keys dtypes. We may need to coerce\u001b[39;00m\n\u001b[0;32m    706\u001b[0m \u001b[38;5;66;03m# to avoid incompatible dtypes\u001b[39;00m\n\u001b[0;32m    707\u001b[0m \u001b[38;5;28mself\u001b[39m\u001b[38;5;241m.\u001b[39m_maybe_coerce_merge_keys()\n",
      "File \u001b[1;32m~\\anaconda3\\lib\\site-packages\\pandas\\core\\reshape\\merge.py:1179\u001b[0m, in \u001b[0;36m_MergeOperation._get_merge_keys\u001b[1;34m(self)\u001b[0m\n\u001b[0;32m   1175\u001b[0m \u001b[38;5;28;01mif\u001b[39;00m lk \u001b[38;5;129;01mis\u001b[39;00m \u001b[38;5;129;01mnot\u001b[39;00m \u001b[38;5;28;01mNone\u001b[39;00m:\n\u001b[0;32m   1176\u001b[0m     \u001b[38;5;66;03m# Then we're either Hashable or a wrong-length arraylike,\u001b[39;00m\n\u001b[0;32m   1177\u001b[0m     \u001b[38;5;66;03m#  the latter of which will raise\u001b[39;00m\n\u001b[0;32m   1178\u001b[0m     lk \u001b[38;5;241m=\u001b[39m cast(Hashable, lk)\n\u001b[1;32m-> 1179\u001b[0m     left_keys\u001b[38;5;241m.\u001b[39mappend(\u001b[43mleft\u001b[49m\u001b[38;5;241;43m.\u001b[39;49m\u001b[43m_get_label_or_level_values\u001b[49m\u001b[43m(\u001b[49m\u001b[43mlk\u001b[49m\u001b[43m)\u001b[49m)\n\u001b[0;32m   1180\u001b[0m     join_names\u001b[38;5;241m.\u001b[39mappend(lk)\n\u001b[0;32m   1181\u001b[0m \u001b[38;5;28;01melse\u001b[39;00m:\n\u001b[0;32m   1182\u001b[0m     \u001b[38;5;66;03m# work-around for merge_asof(left_index=True)\u001b[39;00m\n",
      "File \u001b[1;32m~\\anaconda3\\lib\\site-packages\\pandas\\core\\generic.py:1850\u001b[0m, in \u001b[0;36mNDFrame._get_label_or_level_values\u001b[1;34m(self, key, axis)\u001b[0m\n\u001b[0;32m   1844\u001b[0m     values \u001b[38;5;241m=\u001b[39m (\n\u001b[0;32m   1845\u001b[0m         \u001b[38;5;28mself\u001b[39m\u001b[38;5;241m.\u001b[39maxes[axis]\n\u001b[0;32m   1846\u001b[0m         \u001b[38;5;241m.\u001b[39mget_level_values(key)  \u001b[38;5;66;03m# type: ignore[assignment]\u001b[39;00m\n\u001b[0;32m   1847\u001b[0m         \u001b[38;5;241m.\u001b[39m_values\n\u001b[0;32m   1848\u001b[0m     )\n\u001b[0;32m   1849\u001b[0m \u001b[38;5;28;01melse\u001b[39;00m:\n\u001b[1;32m-> 1850\u001b[0m     \u001b[38;5;28;01mraise\u001b[39;00m \u001b[38;5;167;01mKeyError\u001b[39;00m(key)\n\u001b[0;32m   1852\u001b[0m \u001b[38;5;66;03m# Check for duplicates\u001b[39;00m\n\u001b[0;32m   1853\u001b[0m \u001b[38;5;28;01mif\u001b[39;00m values\u001b[38;5;241m.\u001b[39mndim \u001b[38;5;241m>\u001b[39m \u001b[38;5;241m1\u001b[39m:\n",
      "\u001b[1;31mKeyError\u001b[0m: '행정동명'"
     ]
    }
   ],
   "source": [
    "# 데이터 합치기\n",
    "df = pd.merge(df, worker_20232, how = 'left', on = '행정동명')"
   ]
  },
  {
   "cell_type": "markdown",
   "id": "9efcd0ef",
   "metadata": {},
   "source": [
    "# 상주인구 컬럼 추가\n",
    "- 직장인구와 같은 작업 진행"
   ]
  },
  {
   "cell_type": "code",
   "execution_count": null,
   "id": "3397e064",
   "metadata": {},
   "outputs": [],
   "source": [
    "sangjoo = pd.read_csv(\"서울시 상권분석서비스(상주인구-행정동).csv\", encoding = \"EUC-kr\")"
   ]
  },
  {
   "cell_type": "code",
   "execution_count": null,
   "id": "6b3d8884",
   "metadata": {},
   "outputs": [],
   "source": [
    "sangjoo_20232 = sangjoo.query(\"기준_년분기_코드 == 20232\")"
   ]
  },
  {
   "cell_type": "code",
   "execution_count": null,
   "id": "2a9bc435",
   "metadata": {},
   "outputs": [],
   "source": [
    "sangjoo_20232 = sangjoo_20232[[\"행정동_코드_명\", \"총_상주인구_수\"]]"
   ]
  },
  {
   "cell_type": "code",
   "execution_count": null,
   "id": "f9a8962d",
   "metadata": {},
   "outputs": [],
   "source": [
    "sangjoo_20232 = sangjoo_20232.rename(columns = {\"행정동_코드_명\": \"행정동명\"})"
   ]
  },
  {
   "cell_type": "code",
   "execution_count": null,
   "id": "72532ba9",
   "metadata": {},
   "outputs": [],
   "source": [
    "sangjoo_20232.행정동명.replace(\"면목3?8동\", \"면목3.8동\", inplace = True)\n",
    "sangjoo_20232.행정동명.replace(\"종로1?2?3?4가동\", \"종로1.2.3.4가동\", inplace = True)\n",
    "sangjoo_20232.행정동명.replace(\"종로5?6가동\", \"종로5.6가동\", inplace = True)"
   ]
  },
  {
   "cell_type": "code",
   "execution_count": null,
   "id": "57a65fd1",
   "metadata": {},
   "outputs": [],
   "source": [
    "sangjoo_20232"
   ]
  },
  {
   "cell_type": "code",
   "execution_count": null,
   "id": "29d34188",
   "metadata": {},
   "outputs": [],
   "source": [
    "df"
   ]
  },
  {
   "cell_type": "code",
   "execution_count": null,
   "id": "77204287",
   "metadata": {},
   "outputs": [],
   "source": [
    "df = pd.merge(df, sangjoo_20232, how = 'left', on = '행정동명')"
   ]
  },
  {
   "cell_type": "markdown",
   "id": "50df1002",
   "metadata": {},
   "source": [
    "# 유동인구 컬럼 추가\n",
    "- 직장인구와 같은 작업 진행\n",
    "- 유동인구수가 가장 포괄적인 인구이기 때문에 성별, 연령대 컬럼도 추가"
   ]
  },
  {
   "cell_type": "code",
   "execution_count": null,
   "id": "382aee8c",
   "metadata": {},
   "outputs": [],
   "source": [
    "yoodong = pd.read_csv(\"서울시 상권분석서비스(길단위인구-행정동).csv\", encoding = \"EUC-kr\")"
   ]
  },
  {
   "cell_type": "code",
   "execution_count": null,
   "id": "6f5d373a",
   "metadata": {},
   "outputs": [],
   "source": [
    "yoodong.head(10)"
   ]
  },
  {
   "cell_type": "code",
   "execution_count": null,
   "id": "061c66cf",
   "metadata": {},
   "outputs": [],
   "source": [
    "yoodong_20232 = yoodong.query(\"기준_년분기_코드 == 20232\")"
   ]
  },
  {
   "cell_type": "code",
   "execution_count": null,
   "id": "69b7c9ea",
   "metadata": {},
   "outputs": [],
   "source": [
    "yoodong_20232.columns"
   ]
  },
  {
   "cell_type": "code",
   "execution_count": null,
   "id": "c6fde249",
   "metadata": {},
   "outputs": [],
   "source": [
    "yoodong_20232 = yoodong_20232[[\"행정동_코드_명\", \"총_유동인구_수\", '남성_유동인구_수', '여성_유동인구_수', '연령대_10_유동인구_수', '연령대_20_유동인구_수', '연령대_30_유동인구_수', '연령대_40_유동인구_수',\n",
    "       '연령대_50_유동인구_수', '연령대_60_이상_유동인구_수']]"
   ]
  },
  {
   "cell_type": "code",
   "execution_count": null,
   "id": "0747ff8c",
   "metadata": {},
   "outputs": [],
   "source": [
    "yoodong_20232"
   ]
  },
  {
   "cell_type": "code",
   "execution_count": null,
   "id": "1abf24ed",
   "metadata": {},
   "outputs": [],
   "source": [
    "yoodong_20232 = yoodong_20232.rename(columns = {\"행정동_코드_명\": \"행정동명\"})"
   ]
  },
  {
   "cell_type": "code",
   "execution_count": null,
   "id": "a025fcf4",
   "metadata": {},
   "outputs": [],
   "source": [
    "yoodong_20232.행정동명.replace(\"면목3?8동\", \"면목3.8동\", inplace = True)\n",
    "yoodong_20232.행정동명.replace(\"종로1?2?3?4가동\", \"종로1.2.3.4가동\", inplace = True)\n",
    "yoodong_20232.행정동명.replace(\"종로5?6가동\", \"종로5.6가동\", inplace = True)"
   ]
  },
  {
   "cell_type": "code",
   "execution_count": null,
   "id": "db58f6fc",
   "metadata": {},
   "outputs": [],
   "source": [
    "yoodong_20232"
   ]
  },
  {
   "cell_type": "code",
   "execution_count": null,
   "id": "cca56269",
   "metadata": {},
   "outputs": [],
   "source": [
    "df = pd.merge(df, yoodong_20232, how = 'left', on = '행정동명')"
   ]
  },
  {
   "cell_type": "code",
   "execution_count": null,
   "id": "8a6515f5",
   "metadata": {},
   "outputs": [],
   "source": [
    "df"
   ]
  },
  {
   "cell_type": "markdown",
   "id": "18d30c62",
   "metadata": {},
   "source": [
    "# 버스정류장 개수 컬럼 추가\n",
    "- 서울시 상권분석서비스(집객시설-행정동).csv 파일의 버스정류장 수 컬럼 값이 정확하지 않아서 버스정류장 컬럼을 따로 전처리 진행\n",
    "- Bus_data(202306).csv 파일은 석현님이 전처리해서 보내주셨어요!"
   ]
  },
  {
   "cell_type": "code",
   "execution_count": null,
   "id": "3cf224f6",
   "metadata": {},
   "outputs": [],
   "source": [
    "bus_202306 = pd.read_csv(\"Bus_data(202306).csv\")"
   ]
  },
  {
   "cell_type": "code",
   "execution_count": null,
   "id": "61146ead",
   "metadata": {},
   "outputs": [],
   "source": [
    "bus_202306 = bus_202306.rename(columns = {\"행정동\": \"행정동명\"})\n",
    "bus_202306 = bus_202306.rename(columns = {\"정류소 수\": \"버스정류소 수\"})"
   ]
  },
  {
   "cell_type": "code",
   "execution_count": null,
   "id": "f34c67ff",
   "metadata": {},
   "outputs": [],
   "source": [
    "bus_202306.행정동명.replace(\"면목3·8동\", \"면목3.8동\", inplace = True)\n",
    "bus_202306.행정동명.replace(\"종로1·2·3·4가동\", \"종로1.2.3.4가동\", inplace = True)\n",
    "bus_202306.행정동명.replace(\"종로5·6가동\", \"종로5.6가동\", inplace = True)"
   ]
  },
  {
   "cell_type": "code",
   "execution_count": null,
   "id": "562d3243",
   "metadata": {},
   "outputs": [],
   "source": [
    "bus_202306"
   ]
  },
  {
   "cell_type": "code",
   "execution_count": null,
   "id": "03000a9f",
   "metadata": {},
   "outputs": [],
   "source": [
    "df = pd.merge(df, bus_202306, how = 'left', on = '행정동명')"
   ]
  },
  {
   "cell_type": "markdown",
   "id": "7f9a600e",
   "metadata": {},
   "source": [
    "## 지하철 개수 컬럼 추가\n",
    "- 서울시 상권분석서비스(집객시설-행정동).csv 의 지하철역 수 컬럼은 검색.비교해본 결과 정확해서 그대로 이용"
   ]
  },
  {
   "cell_type": "code",
   "execution_count": null,
   "id": "b3f89f69",
   "metadata": {},
   "outputs": [],
   "source": [
    "zip = pd.read_csv(\"서울시 상권분석서비스(집객시설-행정동).csv\", encoding = \"EUC-kr\")"
   ]
  },
  {
   "cell_type": "code",
   "execution_count": null,
   "id": "b4bc59bf",
   "metadata": {},
   "outputs": [],
   "source": [
    "zip_20232 = zip.query(\"기준_년분기_코드 == 20232\")"
   ]
  },
  {
   "cell_type": "code",
   "execution_count": null,
   "id": "6c26c964",
   "metadata": {},
   "outputs": [],
   "source": [
    "zip_20232 = zip_20232[[\"행정동_코드_명\", \"지하철_역_수\"]]"
   ]
  },
  {
   "cell_type": "code",
   "execution_count": null,
   "id": "1c065eaf",
   "metadata": {},
   "outputs": [],
   "source": [
    "zip_20232 = zip_20232.rename(columns = {\"행정동_코드_명\": \"행정동명\"})"
   ]
  },
  {
   "cell_type": "code",
   "execution_count": null,
   "id": "038f0a53",
   "metadata": {},
   "outputs": [],
   "source": [
    "zip_20232.행정동명.replace(\"면목3?8동\", \"면목3.8동\", inplace = True)\n",
    "zip_20232.행정동명.replace(\"종로1?2?3?4가동\", \"종로1.2.3.4가동\", inplace = True)\n",
    "zip_20232.행정동명.replace(\"종로5?6가동\", \"종로5.6가동\", inplace = True)"
   ]
  },
  {
   "cell_type": "code",
   "execution_count": null,
   "id": "2607a1d4",
   "metadata": {},
   "outputs": [],
   "source": [
    "df = pd.merge(df, zip_20232, how = 'left', on = '행정동명')"
   ]
  },
  {
   "cell_type": "markdown",
   "id": "b39544d3",
   "metadata": {},
   "source": [
    "# null 값은 0으로 채움"
   ]
  },
  {
   "cell_type": "code",
   "execution_count": null,
   "id": "76515fdd",
   "metadata": {},
   "outputs": [],
   "source": [
    "df = df.fillna(0)"
   ]
  },
  {
   "cell_type": "code",
   "execution_count": null,
   "id": "ac245341",
   "metadata": {
    "scrolled": true
   },
   "outputs": [],
   "source": [
    "df.head()"
   ]
  },
  {
   "cell_type": "code",
   "execution_count": null,
   "id": "02c71c04",
   "metadata": {},
   "outputs": [],
   "source": [
    "df.to_csv(\"전체_데이터_전처리.csv\", index = False)"
   ]
  },
  {
   "cell_type": "code",
   "execution_count": null,
   "id": "cc6ed90f",
   "metadata": {},
   "outputs": [],
   "source": []
  },
  {
   "cell_type": "code",
   "execution_count": null,
   "id": "bfcf0016",
   "metadata": {},
   "outputs": [],
   "source": []
  },
  {
   "cell_type": "code",
   "execution_count": null,
   "id": "7d09cba6",
   "metadata": {},
   "outputs": [],
   "source": []
  },
  {
   "cell_type": "code",
   "execution_count": null,
   "id": "ed288c5b",
   "metadata": {},
   "outputs": [],
   "source": []
  },
  {
   "cell_type": "code",
   "execution_count": null,
   "id": "48d0835e",
   "metadata": {},
   "outputs": [],
   "source": []
  },
  {
   "cell_type": "code",
   "execution_count": null,
   "id": "c40c26a7",
   "metadata": {},
   "outputs": [],
   "source": []
  },
  {
   "cell_type": "code",
   "execution_count": null,
   "id": "726fb5b1",
   "metadata": {},
   "outputs": [],
   "source": []
  },
  {
   "cell_type": "code",
   "execution_count": null,
   "id": "be0c0bb1",
   "metadata": {},
   "outputs": [],
   "source": []
  },
  {
   "cell_type": "code",
   "execution_count": null,
   "id": "12b38d40",
   "metadata": {},
   "outputs": [],
   "source": []
  },
  {
   "cell_type": "code",
   "execution_count": null,
   "id": "7f7f86be",
   "metadata": {},
   "outputs": [],
   "source": []
  },
  {
   "cell_type": "code",
   "execution_count": null,
   "id": "800ea500",
   "metadata": {},
   "outputs": [],
   "source": []
  },
  {
   "cell_type": "code",
   "execution_count": null,
   "id": "ef393d24",
   "metadata": {},
   "outputs": [],
   "source": []
  },
  {
   "cell_type": "code",
   "execution_count": null,
   "id": "2eaec27e",
   "metadata": {},
   "outputs": [],
   "source": []
  },
  {
   "cell_type": "code",
   "execution_count": null,
   "id": "9ccb96a6",
   "metadata": {},
   "outputs": [],
   "source": []
  },
  {
   "cell_type": "code",
   "execution_count": null,
   "id": "d2f221e4",
   "metadata": {},
   "outputs": [],
   "source": []
  },
  {
   "cell_type": "code",
   "execution_count": null,
   "id": "dc383c77",
   "metadata": {},
   "outputs": [],
   "source": []
  },
  {
   "cell_type": "code",
   "execution_count": null,
   "id": "315ceb54",
   "metadata": {},
   "outputs": [],
   "source": []
  }
 ],
 "metadata": {
  "kernelspec": {
   "display_name": "Python 3 (ipykernel)",
   "language": "python",
   "name": "python3"
  },
  "language_info": {
   "codemirror_mode": {
    "name": "ipython",
    "version": 3
   },
   "file_extension": ".py",
   "mimetype": "text/x-python",
   "name": "python",
   "nbconvert_exporter": "python",
   "pygments_lexer": "ipython3",
   "version": "3.10.9"
  }
 },
 "nbformat": 4,
 "nbformat_minor": 5
}
